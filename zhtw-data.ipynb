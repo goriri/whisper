{
 "cells": [
  {
   "cell_type": "code",
   "execution_count": 2,
   "id": "859b28b3-aae8-40f7-bd09-7a4499e6622c",
   "metadata": {
    "tags": []
   },
   "outputs": [
    {
     "name": "stdout",
     "output_type": "stream",
     "text": [
      "Collecting package metadata (current_repodata.json): done\n",
      "Solving environment: done\n",
      "\n",
      "# All requested packages already installed.\n",
      "\n",
      "Retrieving notices: ...working... done\n",
      "Collecting package metadata (current_repodata.json): done\n",
      "Solving environment: done\n",
      "\n",
      "\n",
      "==> WARNING: A newer version of conda exists. <==\n",
      "  current version: 22.9.0\n",
      "  latest version: 22.11.1\n",
      "\n",
      "Please update conda by running\n",
      "\n",
      "    $ conda update -n base -c conda-forge conda\n",
      "\n",
      "\n",
      "\n",
      "# All requested packages already installed.\n",
      "\n",
      "Retrieving notices: ...working... done\n"
     ]
    }
   ],
   "source": [
    "#g4dn instance with Data Science Kernel, restart the kernel after the installation\n",
    "!conda install pytorch torchvision torchaudio pytorch-cuda=11.7 -c pytorch -c nvidia -y\n",
    "!conda install -c conda-forge tensorboard -y\n",
    "!conda install -c conda-forge tqdm -y"
   ]
  },
  {
   "cell_type": "code",
   "execution_count": 3,
   "id": "76328662-ac06-4684-875c-228cd7f355b3",
   "metadata": {
    "tags": []
   },
   "outputs": [
    {
     "name": "stdout",
     "output_type": "stream",
     "text": [
      "Detected operating system as debian/10.\n",
      "Checking for curl...\n",
      "Detected curl...\n",
      "Checking for gpg...\n",
      "Installing gnupg for GPG verification...\n",
      "Reading package lists... Done\n",
      "Building dependency tree       \n",
      "Reading state information... Done\n",
      "The following additional packages will be installed:\n",
      "  dirmngr gnupg-l10n gnupg-utils gpg gpg-agent gpg-wks-client gpg-wks-server\n",
      "  gpgconf gpgsm gpgv libassuan0 libksba8 libnpth0 pinentry-curses\n",
      "Suggested packages:\n",
      "  dbus-user-session libpam-systemd pinentry-gnome3 tor parcimonie xloadimage\n",
      "  scdaemon pinentry-doc\n",
      "The following NEW packages will be installed:\n",
      "  dirmngr gnupg gnupg-l10n gnupg-utils gpg gpg-agent gpg-wks-client\n",
      "  gpg-wks-server gpgconf gpgsm libassuan0 libksba8 libnpth0 pinentry-curses\n",
      "The following packages will be upgraded:\n",
      "  gpgv\n",
      "1 upgraded, 14 newly installed, 0 to remove and 58 not upgraded.\n",
      "Need to get 7676 kB of archives.\n",
      "After this operation, 14.9 MB of additional disk space will be used.\n",
      "Get:1 http://security.debian.org/debian-security buster/updates/main amd64 libksba8 amd64 1.3.5-2+deb10u2 [102 kB]\n",
      "Get:2 http://deb.debian.org/debian buster/main amd64 gpgv amd64 2.2.12-1+deb10u2 [584 kB]\n",
      "Get:3 http://deb.debian.org/debian buster/main amd64 libassuan0 amd64 2.5.2-1 [49.4 kB]\n",
      "Get:4 http://deb.debian.org/debian buster/main amd64 gpgconf amd64 2.2.12-1+deb10u2 [510 kB]\n",
      "Get:5 http://deb.debian.org/debian buster/main amd64 libnpth0 amd64 1.6-1 [18.4 kB]\n",
      "Get:6 http://deb.debian.org/debian buster/main amd64 dirmngr amd64 2.2.12-1+deb10u2 [712 kB]\n",
      "Get:7 http://deb.debian.org/debian buster/main amd64 gnupg-l10n all 2.2.12-1+deb10u2 [1009 kB]\n",
      "Get:8 http://deb.debian.org/debian buster/main amd64 gnupg-utils amd64 2.2.12-1+deb10u2 [861 kB]\n",
      "Get:9 http://deb.debian.org/debian buster/main amd64 gpg amd64 2.2.12-1+deb10u2 [865 kB]\n",
      "Get:10 http://deb.debian.org/debian buster/main amd64 pinentry-curses amd64 1.1.0-2 [64.5 kB]\n",
      "Get:11 http://deb.debian.org/debian buster/main amd64 gpg-agent amd64 2.2.12-1+deb10u2 [617 kB]\n",
      "Get:12 http://deb.debian.org/debian buster/main amd64 gpg-wks-client amd64 2.2.12-1+deb10u2 [485 kB]\n",
      "Get:13 http://deb.debian.org/debian buster/main amd64 gpg-wks-server amd64 2.2.12-1+deb10u2 [478 kB]\n",
      "Get:14 http://deb.debian.org/debian buster/main amd64 gpgsm amd64 2.2.12-1+deb10u2 [604 kB]\n",
      "Get:15 http://deb.debian.org/debian buster/main amd64 gnupg all 2.2.12-1+deb10u2 [715 kB]\n",
      "Fetched 7676 kB in 0s (78.5 MB/s)\n",
      "debconf: delaying package configuration, since apt-utils is not installed\n",
      "(Reading database ... 20633 files and directories currently installed.)\n",
      "Preparing to unpack .../gpgv_2.2.12-1+deb10u2_amd64.deb ...\n",
      "Unpacking gpgv (2.2.12-1+deb10u2) over (2.2.12-1+deb10u1) ...\n",
      "Setting up gpgv (2.2.12-1+deb10u2) ...\n",
      "Selecting previously unselected package libassuan0:amd64.\n",
      "(Reading database ... 20633 files and directories currently installed.)\n",
      "Preparing to unpack .../00-libassuan0_2.5.2-1_amd64.deb ...\n",
      "Unpacking libassuan0:amd64 (2.5.2-1) ...\n",
      "Selecting previously unselected package gpgconf.\n",
      "Preparing to unpack .../01-gpgconf_2.2.12-1+deb10u2_amd64.deb ...\n",
      "Unpacking gpgconf (2.2.12-1+deb10u2) ...\n",
      "Selecting previously unselected package libksba8:amd64.\n",
      "Preparing to unpack .../02-libksba8_1.3.5-2+deb10u2_amd64.deb ...\n",
      "Unpacking libksba8:amd64 (1.3.5-2+deb10u2) ...\n",
      "Selecting previously unselected package libnpth0:amd64.\n",
      "Preparing to unpack .../03-libnpth0_1.6-1_amd64.deb ...\n",
      "Unpacking libnpth0:amd64 (1.6-1) ...\n",
      "Selecting previously unselected package dirmngr.\n",
      "Preparing to unpack .../04-dirmngr_2.2.12-1+deb10u2_amd64.deb ...\n",
      "Unpacking dirmngr (2.2.12-1+deb10u2) ...\n",
      "Selecting previously unselected package gnupg-l10n.\n",
      "Preparing to unpack .../05-gnupg-l10n_2.2.12-1+deb10u2_all.deb ...\n",
      "Unpacking gnupg-l10n (2.2.12-1+deb10u2) ...\n",
      "Selecting previously unselected package gnupg-utils.\n",
      "Preparing to unpack .../06-gnupg-utils_2.2.12-1+deb10u2_amd64.deb ...\n",
      "Unpacking gnupg-utils (2.2.12-1+deb10u2) ...\n",
      "Selecting previously unselected package gpg.\n",
      "Preparing to unpack .../07-gpg_2.2.12-1+deb10u2_amd64.deb ...\n",
      "Unpacking gpg (2.2.12-1+deb10u2) ...\n",
      "Selecting previously unselected package pinentry-curses.\n",
      "Preparing to unpack .../08-pinentry-curses_1.1.0-2_amd64.deb ...\n",
      "Unpacking pinentry-curses (1.1.0-2) ...\n",
      "Selecting previously unselected package gpg-agent.\n",
      "Preparing to unpack .../09-gpg-agent_2.2.12-1+deb10u2_amd64.deb ...\n",
      "Unpacking gpg-agent (2.2.12-1+deb10u2) ...\n",
      "Selecting previously unselected package gpg-wks-client.\n",
      "Preparing to unpack .../10-gpg-wks-client_2.2.12-1+deb10u2_amd64.deb ...\n",
      "Unpacking gpg-wks-client (2.2.12-1+deb10u2) ...\n",
      "Selecting previously unselected package gpg-wks-server.\n",
      "Preparing to unpack .../11-gpg-wks-server_2.2.12-1+deb10u2_amd64.deb ...\n",
      "Unpacking gpg-wks-server (2.2.12-1+deb10u2) ...\n",
      "Selecting previously unselected package gpgsm.\n",
      "Preparing to unpack .../12-gpgsm_2.2.12-1+deb10u2_amd64.deb ...\n",
      "Unpacking gpgsm (2.2.12-1+deb10u2) ...\n",
      "Selecting previously unselected package gnupg.\n",
      "Preparing to unpack .../13-gnupg_2.2.12-1+deb10u2_all.deb ...\n",
      "Unpacking gnupg (2.2.12-1+deb10u2) ...\n",
      "Setting up libksba8:amd64 (1.3.5-2+deb10u2) ...\n",
      "Setting up libnpth0:amd64 (1.6-1) ...\n",
      "Setting up libassuan0:amd64 (2.5.2-1) ...\n",
      "Setting up gnupg-l10n (2.2.12-1+deb10u2) ...\n",
      "Setting up gpgconf (2.2.12-1+deb10u2) ...\n",
      "Setting up gpg (2.2.12-1+deb10u2) ...\n",
      "Setting up gnupg-utils (2.2.12-1+deb10u2) ...\n",
      "Setting up pinentry-curses (1.1.0-2) ...\n",
      "Setting up gpg-agent (2.2.12-1+deb10u2) ...\n",
      "Setting up gpgsm (2.2.12-1+deb10u2) ...\n",
      "Setting up dirmngr (2.2.12-1+deb10u2) ...\n",
      "Setting up gpg-wks-server (2.2.12-1+deb10u2) ...\n",
      "Setting up gpg-wks-client (2.2.12-1+deb10u2) ...\n",
      "Setting up gnupg (2.2.12-1+deb10u2) ...\n",
      "Processing triggers for libc-bin (2.28-10) ...\n",
      "Detected apt version as 1.8.2.1\n",
      "Running apt-get update... done.\n",
      "Installing debian-archive-keyring which is needed for installing \n",
      "apt-transport-https on many Debian systems.\n",
      "Installing apt-transport-https... done.\n",
      "Installing /etc/apt/sources.list.d/github_git-lfs.list...done.\n",
      "Importing packagecloud gpg key... Packagecloud gpg key imported to /etc/apt/keyrings/github_git-lfs-archive-keyring.gpg\n",
      "done.\n",
      "Running apt-get update... done.\n",
      "\n",
      "The repository is setup! You can now install packages.\n",
      "Reading package lists... Done\n",
      "Building dependency tree       \n",
      "Reading state information... Done\n",
      "The following packages will be upgraded:\n",
      "  git-lfs\n",
      "1 upgraded, 0 newly installed, 0 to remove and 57 not upgraded.\n",
      "Need to get 7419 kB of archives.\n",
      "After this operation, 6313 kB of additional disk space will be used.\n",
      "Get:1 https://packagecloud.io/github/git-lfs/debian buster/main amd64 git-lfs amd64 3.3.0 [7419 kB]\n",
      "Fetched 7419 kB in 0s (15.8 MB/s)\u001b[33m\n",
      "debconf: delaying package configuration, since apt-utils is not installed\n",
      "\n",
      "(Reading database ... 20870 files and directories currently installed.)\n",
      "Preparing to unpack .../git-lfs_3.3.0_amd64.deb ...\n",
      "\u001b7\u001b[24;0f\u001b[42m\u001b[30mProgress: [  0%]\u001b[49m\u001b[39m [..........................................................] \u001b8\u001b7\u001b[24;0f\u001b[42m\u001b[30mProgress: [ 20%]\u001b[49m\u001b[39m [###########...............................................] \u001b8Unpacking git-lfs (3.3.0) over (2.7.1-1+deb10u1) ...\n",
      "\u001b7\u001b[24;0f\u001b[42m\u001b[30mProgress: [ 40%]\u001b[49m\u001b[39m [#######################...................................] \u001b8Setting up git-lfs (3.3.0) ...\n",
      "\u001b7\u001b[24;0f\u001b[42m\u001b[30mProgress: [ 60%]\u001b[49m\u001b[39m [##################################........................] \u001b8Git LFS initialized.\n",
      "\u001b7\u001b[24;0f\u001b[42m\u001b[30mProgress: [ 80%]\u001b[49m\u001b[39m [##############################################............] \u001b8\n",
      "\u001b7\u001b[0;24r\u001b8\u001b[1A\u001b[JUpdated Git hooks.\n",
      "Git LFS initialized.\n"
     ]
    }
   ],
   "source": [
    "#install git lfs (required by hugging face model)\n",
    "!curl -s https://packagecloud.io/install/repositories/github/git-lfs/script.deb.sh | bash\n",
    "!apt install -y git-lfs -y\n",
    "!git lfs install"
   ]
  },
  {
   "cell_type": "code",
   "execution_count": 6,
   "id": "9b5afe73-7047-45ea-b2b4-813eef8fe8fd",
   "metadata": {
    "tags": []
   },
   "outputs": [
    {
     "data": {
      "text/plain": [
       "'Tesla T4'"
      ]
     },
     "execution_count": 6,
     "metadata": {},
     "output_type": "execute_result"
    }
   ],
   "source": [
    "#Check pytorch successfully installed with CUDA enabled\n",
    "import torch\n",
    "torch.cuda.get_device_name(0)\n"
   ]
  },
  {
   "cell_type": "code",
   "execution_count": 7,
   "id": "229c544a-6ba7-4cf0-b005-6fbd7b08235d",
   "metadata": {
    "tags": []
   },
   "outputs": [
    {
     "name": "stdout",
     "output_type": "stream",
     "text": [
      "/bin/bash: add-apt-repository: command not found\n",
      "Hit:1 http://deb.debian.org/debian buster InRelease\n",
      "Hit:2 http://deb.debian.org/debian buster-updates InRelease            \u001b[0m\n",
      "Hit:3 http://security.debian.org/debian-security buster/updates InRelease\n",
      "Hit:4 https://packagecloud.io/github/git-lfs/debian buster InRelease   \u001b[33m\u001b[33m\u001b[33m\n",
      "Reading package lists... Done\n",
      "Building dependency tree       \n",
      "Reading state information... Done\n",
      "57 packages can be upgraded. Run 'apt list --upgradable' to see them.\n",
      "Reading package lists... Done\n",
      "Building dependency tree       \n",
      "Reading state information... Done\n",
      "ffmpeg is already the newest version (7:4.1.10-0+deb10u1).\n",
      "0 upgraded, 0 newly installed, 0 to remove and 57 not upgraded.\n"
     ]
    }
   ],
   "source": [
    "#ffmpeg 4 is required for pytorch to process mp3\n",
    "!add-apt-repository -y ppa:jonathonf/ffmpeg-4\n",
    "!apt update\n",
    "!apt install -y ffmpeg\n"
   ]
  },
  {
   "cell_type": "code",
   "execution_count": 13,
   "id": "e029a687-d239-45de-bef6-e5d81dc30b91",
   "metadata": {
    "tags": []
   },
   "outputs": [
    {
     "name": "stdout",
     "output_type": "stream",
     "text": [
      "Looking in indexes: https://pypi.org/simple, https://packagecloud.io/github/git-lfs/pypi/simple\n",
      "Requirement already satisfied: pip in /opt/conda/lib/python3.7/site-packages (23.0)\n",
      "\u001b[33mWARNING: Running pip as the 'root' user can result in broken permissions and conflicting behaviour with the system package manager. It is recommended to use a virtual environment instead: https://pip.pypa.io/warnings/venv\u001b[0m\u001b[33m\n",
      "\u001b[0m\u001b[33mWARNING: Running pip as the 'root' user can result in broken permissions and conflicting behaviour with the system package manager. It is recommended to use a virtual environment instead: https://pip.pypa.io/warnings/venv\u001b[0m\u001b[33m\n",
      "\u001b[0mLooking in indexes: https://pypi.org/simple, https://packagecloud.io/github/git-lfs/pypi/simple\n",
      "Collecting git+https://github.com/huggingface/transformers\n",
      "  Cloning https://github.com/huggingface/transformers to /tmp/pip-req-build-3qr1ztuo\n",
      "  Running command git clone --filter=blob:none --quiet https://github.com/huggingface/transformers /tmp/pip-req-build-3qr1ztuo\n",
      "  Resolved https://github.com/huggingface/transformers to commit bc44e947f371924db854a460484ec46c95e50a35\n",
      "  Installing build dependencies ... \u001b[?25ldone\n",
      "\u001b[?25h  Getting requirements to build wheel ... \u001b[?25ldone\n",
      "\u001b[?25h  Preparing metadata (pyproject.toml) ... \u001b[?25ldone\n",
      "\u001b[?25hRequirement already satisfied: importlib-metadata in /opt/conda/lib/python3.7/site-packages (from transformers==4.27.0.dev0) (5.1.0)\n",
      "Requirement already satisfied: tokenizers!=0.11.3,<0.14,>=0.11.1 in /opt/conda/lib/python3.7/site-packages (from transformers==4.27.0.dev0) (0.13.2)\n",
      "Requirement already satisfied: filelock in /opt/conda/lib/python3.7/site-packages (from transformers==4.27.0.dev0) (3.0.12)\n",
      "Requirement already satisfied: tqdm>=4.27 in /opt/conda/lib/python3.7/site-packages (from transformers==4.27.0.dev0) (4.64.1)\n",
      "Requirement already satisfied: regex!=2019.12.17 in /opt/conda/lib/python3.7/site-packages (from transformers==4.27.0.dev0) (2022.10.31)\n",
      "Requirement already satisfied: pyyaml>=5.1 in /opt/conda/lib/python3.7/site-packages (from transformers==4.27.0.dev0) (6.0)\n",
      "Requirement already satisfied: packaging>=20.0 in /opt/conda/lib/python3.7/site-packages (from transformers==4.27.0.dev0) (23.0)\n",
      "Requirement already satisfied: requests in /opt/conda/lib/python3.7/site-packages (from transformers==4.27.0.dev0) (2.28.1)\n",
      "Requirement already satisfied: numpy>=1.17 in /opt/conda/lib/python3.7/site-packages (from transformers==4.27.0.dev0) (1.21.6)\n",
      "Requirement already satisfied: huggingface-hub<1.0,>=0.11.0 in /opt/conda/lib/python3.7/site-packages (from transformers==4.27.0.dev0) (0.12.0)\n",
      "Requirement already satisfied: typing-extensions>=3.7.4.3 in /opt/conda/lib/python3.7/site-packages (from huggingface-hub<1.0,>=0.11.0->transformers==4.27.0.dev0) (4.4.0)\n",
      "Requirement already satisfied: zipp>=0.5 in /opt/conda/lib/python3.7/site-packages (from importlib-metadata->transformers==4.27.0.dev0) (3.11.0)\n",
      "Requirement already satisfied: idna<4,>=2.5 in /opt/conda/lib/python3.7/site-packages (from requests->transformers==4.27.0.dev0) (2.8)\n",
      "Requirement already satisfied: charset-normalizer<3,>=2 in /opt/conda/lib/python3.7/site-packages (from requests->transformers==4.27.0.dev0) (2.0.4)\n",
      "Requirement already satisfied: certifi>=2017.4.17 in /opt/conda/lib/python3.7/site-packages (from requests->transformers==4.27.0.dev0) (2022.12.7)\n",
      "Requirement already satisfied: urllib3<1.27,>=1.21.1 in /opt/conda/lib/python3.7/site-packages (from requests->transformers==4.27.0.dev0) (1.26.13)\n",
      "\u001b[33mWARNING: Running pip as the 'root' user can result in broken permissions and conflicting behaviour with the system package manager. It is recommended to use a virtual environment instead: https://pip.pypa.io/warnings/venv\u001b[0m\u001b[33m\n",
      "\u001b[0mLooking in indexes: https://pypi.org/simple, https://packagecloud.io/github/git-lfs/pypi/simple\n",
      "Requirement already satisfied: librosa in /opt/conda/lib/python3.7/site-packages (0.9.2)\n",
      "Requirement already satisfied: audioread>=2.1.9 in /opt/conda/lib/python3.7/site-packages (from librosa) (3.0.0)\n",
      "Requirement already satisfied: numpy>=1.17.0 in /opt/conda/lib/python3.7/site-packages (from librosa) (1.21.6)\n",
      "Requirement already satisfied: scikit-learn>=0.19.1 in /opt/conda/lib/python3.7/site-packages (from librosa) (0.22.1)\n",
      "Requirement already satisfied: soundfile>=0.10.2 in /opt/conda/lib/python3.7/site-packages (from librosa) (0.11.0)\n",
      "Requirement already satisfied: pooch>=1.0 in /opt/conda/lib/python3.7/site-packages (from librosa) (1.6.0)\n",
      "Requirement already satisfied: resampy>=0.2.2 in /opt/conda/lib/python3.7/site-packages (from librosa) (0.4.2)\n",
      "Requirement already satisfied: packaging>=20.0 in /opt/conda/lib/python3.7/site-packages (from librosa) (23.0)\n",
      "Requirement already satisfied: scipy>=1.2.0 in /opt/conda/lib/python3.7/site-packages (from librosa) (1.4.1)\n",
      "Requirement already satisfied: joblib>=0.14 in /opt/conda/lib/python3.7/site-packages (from librosa) (0.14.1)\n",
      "Requirement already satisfied: decorator>=4.0.10 in /opt/conda/lib/python3.7/site-packages (from librosa) (4.4.1)\n",
      "Requirement already satisfied: numba>=0.45.1 in /opt/conda/lib/python3.7/site-packages (from librosa) (0.56.4)\n",
      "Requirement already satisfied: importlib-metadata in /opt/conda/lib/python3.7/site-packages (from numba>=0.45.1->librosa) (5.1.0)\n",
      "Requirement already satisfied: llvmlite<0.40,>=0.39.0dev0 in /opt/conda/lib/python3.7/site-packages (from numba>=0.45.1->librosa) (0.39.1)\n",
      "Requirement already satisfied: setuptools in /opt/conda/lib/python3.7/site-packages (from numba>=0.45.1->librosa) (59.3.0)\n",
      "Requirement already satisfied: requests>=2.19.0 in /opt/conda/lib/python3.7/site-packages (from pooch>=1.0->librosa) (2.28.1)\n",
      "Requirement already satisfied: appdirs>=1.3.0 in /opt/conda/lib/python3.7/site-packages (from pooch>=1.0->librosa) (1.4.4)\n",
      "Requirement already satisfied: cffi>=1.0 in /opt/conda/lib/python3.7/site-packages (from soundfile>=0.10.2->librosa) (1.15.0)\n",
      "Requirement already satisfied: pycparser in /opt/conda/lib/python3.7/site-packages (from cffi>=1.0->soundfile>=0.10.2->librosa) (2.19)\n",
      "Requirement already satisfied: certifi>=2017.4.17 in /opt/conda/lib/python3.7/site-packages (from requests>=2.19.0->pooch>=1.0->librosa) (2022.12.7)\n",
      "Requirement already satisfied: charset-normalizer<3,>=2 in /opt/conda/lib/python3.7/site-packages (from requests>=2.19.0->pooch>=1.0->librosa) (2.0.4)\n",
      "Requirement already satisfied: idna<4,>=2.5 in /opt/conda/lib/python3.7/site-packages (from requests>=2.19.0->pooch>=1.0->librosa) (2.8)\n",
      "Requirement already satisfied: urllib3<1.27,>=1.21.1 in /opt/conda/lib/python3.7/site-packages (from requests>=2.19.0->pooch>=1.0->librosa) (1.26.13)\n",
      "Requirement already satisfied: typing-extensions>=3.6.4 in /opt/conda/lib/python3.7/site-packages (from importlib-metadata->numba>=0.45.1->librosa) (4.4.0)\n",
      "Requirement already satisfied: zipp>=0.5 in /opt/conda/lib/python3.7/site-packages (from importlib-metadata->numba>=0.45.1->librosa) (3.11.0)\n",
      "\u001b[33mWARNING: Running pip as the 'root' user can result in broken permissions and conflicting behaviour with the system package manager. It is recommended to use a virtual environment instead: https://pip.pypa.io/warnings/venv\u001b[0m\u001b[33m\n",
      "\u001b[0m\u001b[33mWARNING: Running pip as the 'root' user can result in broken permissions and conflicting behaviour with the system package manager. It is recommended to use a virtual environment instead: https://pip.pypa.io/warnings/venv\u001b[0m\u001b[33m\n",
      "\u001b[0mLooking in indexes: https://pypi.org/simple, https://packagecloud.io/github/git-lfs/pypi/simple\n",
      "Requirement already satisfied: jiwer in /opt/conda/lib/python3.7/site-packages (2.5.1)\n",
      "Requirement already satisfied: levenshtein==0.20.2 in /opt/conda/lib/python3.7/site-packages (from jiwer) (0.20.2)\n",
      "Requirement already satisfied: rapidfuzz<3.0.0,>=2.3.0 in /opt/conda/lib/python3.7/site-packages (from levenshtein==0.20.2->jiwer) (2.13.7)\n",
      "\u001b[33mWARNING: Running pip as the 'root' user can result in broken permissions and conflicting behaviour with the system package manager. It is recommended to use a virtual environment instead: https://pip.pypa.io/warnings/venv\u001b[0m\u001b[33m\n",
      "\u001b[0mLooking in indexes: https://pypi.org/simple, https://packagecloud.io/github/git-lfs/pypi/simple\n",
      "Requirement already satisfied: gradio in /opt/conda/lib/python3.7/site-packages (3.17.0)\n",
      "Requirement already satisfied: matplotlib in /opt/conda/lib/python3.7/site-packages (from gradio) (3.1.3)\n",
      "Requirement already satisfied: python-multipart in /opt/conda/lib/python3.7/site-packages (from gradio) (0.0.5)\n",
      "Requirement already satisfied: pillow in /opt/conda/lib/python3.7/site-packages (from gradio) (9.3.0)\n",
      "Requirement already satisfied: pandas in /opt/conda/lib/python3.7/site-packages (from gradio) (1.3.5)\n",
      "Requirement already satisfied: aiohttp in /opt/conda/lib/python3.7/site-packages (from gradio) (3.8.3)\n",
      "Requirement already satisfied: fastapi in /opt/conda/lib/python3.7/site-packages (from gradio) (0.89.1)\n",
      "Requirement already satisfied: pydantic in /opt/conda/lib/python3.7/site-packages (from gradio) (1.10.4)\n",
      "Requirement already satisfied: fsspec in /opt/conda/lib/python3.7/site-packages (from gradio) (2022.11.0)\n",
      "Requirement already satisfied: pyyaml in /opt/conda/lib/python3.7/site-packages (from gradio) (6.0)\n",
      "Requirement already satisfied: altair>=4.2.0 in /opt/conda/lib/python3.7/site-packages (from gradio) (4.2.2)\n",
      "Requirement already satisfied: markdown-it-py[linkify,plugins] in /opt/conda/lib/python3.7/site-packages (from gradio) (2.1.0)\n",
      "Requirement already satisfied: requests in /opt/conda/lib/python3.7/site-packages (from gradio) (2.28.1)\n",
      "Requirement already satisfied: websockets>=10.0 in /opt/conda/lib/python3.7/site-packages (from gradio) (10.4)\n",
      "Requirement already satisfied: orjson in /opt/conda/lib/python3.7/site-packages (from gradio) (3.8.5)\n",
      "Requirement already satisfied: pycryptodome in /opt/conda/lib/python3.7/site-packages (from gradio) (3.17)\n",
      "Requirement already satisfied: uvicorn in /opt/conda/lib/python3.7/site-packages (from gradio) (0.20.0)\n",
      "Requirement already satisfied: ffmpy in /opt/conda/lib/python3.7/site-packages (from gradio) (0.3.0)\n",
      "Requirement already satisfied: jinja2 in /opt/conda/lib/python3.7/site-packages (from gradio) (3.1.2)\n",
      "Requirement already satisfied: pydub in /opt/conda/lib/python3.7/site-packages (from gradio) (0.25.1)\n",
      "Requirement already satisfied: numpy in /opt/conda/lib/python3.7/site-packages (from gradio) (1.21.6)\n",
      "Requirement already satisfied: httpx in /opt/conda/lib/python3.7/site-packages (from gradio) (0.23.3)\n",
      "Requirement already satisfied: typing-extensions in /opt/conda/lib/python3.7/site-packages (from gradio) (4.4.0)\n",
      "Requirement already satisfied: markupsafe in /opt/conda/lib/python3.7/site-packages (from gradio) (2.1.1)\n",
      "Requirement already satisfied: aiofiles in /opt/conda/lib/python3.7/site-packages (from gradio) (22.1.0)\n",
      "Requirement already satisfied: jsonschema>=3.0 in /opt/conda/lib/python3.7/site-packages (from altair>=4.2.0->gradio) (3.2.0)\n",
      "Requirement already satisfied: toolz in /opt/conda/lib/python3.7/site-packages (from altair>=4.2.0->gradio) (0.10.0)\n",
      "Requirement already satisfied: entrypoints in /opt/conda/lib/python3.7/site-packages (from altair>=4.2.0->gradio) (0.3)\n",
      "Requirement already satisfied: python-dateutil>=2.7.3 in /opt/conda/lib/python3.7/site-packages (from pandas->gradio) (2.8.2)\n",
      "Requirement already satisfied: pytz>=2017.3 in /opt/conda/lib/python3.7/site-packages (from pandas->gradio) (2019.3)\n",
      "Requirement already satisfied: yarl<2.0,>=1.0 in /opt/conda/lib/python3.7/site-packages (from aiohttp->gradio) (1.8.2)\n",
      "Requirement already satisfied: charset-normalizer<3.0,>=2.0 in /opt/conda/lib/python3.7/site-packages (from aiohttp->gradio) (2.0.4)\n",
      "Requirement already satisfied: asynctest==0.13.0 in /opt/conda/lib/python3.7/site-packages (from aiohttp->gradio) (0.13.0)\n",
      "Requirement already satisfied: multidict<7.0,>=4.5 in /opt/conda/lib/python3.7/site-packages (from aiohttp->gradio) (6.0.3)\n",
      "Requirement already satisfied: attrs>=17.3.0 in /opt/conda/lib/python3.7/site-packages (from aiohttp->gradio) (22.1.0)\n",
      "Requirement already satisfied: async-timeout<5.0,>=4.0.0a3 in /opt/conda/lib/python3.7/site-packages (from aiohttp->gradio) (4.0.2)\n",
      "Requirement already satisfied: frozenlist>=1.1.1 in /opt/conda/lib/python3.7/site-packages (from aiohttp->gradio) (1.3.3)\n",
      "Requirement already satisfied: aiosignal>=1.1.2 in /opt/conda/lib/python3.7/site-packages (from aiohttp->gradio) (1.3.1)\n",
      "Requirement already satisfied: starlette==0.22.0 in /opt/conda/lib/python3.7/site-packages (from fastapi->gradio) (0.22.0)\n",
      "Requirement already satisfied: anyio<5,>=3.4.0 in /opt/conda/lib/python3.7/site-packages (from starlette==0.22.0->fastapi->gradio) (3.6.2)\n",
      "Requirement already satisfied: certifi in /opt/conda/lib/python3.7/site-packages (from httpx->gradio) (2022.12.7)\n",
      "Requirement already satisfied: sniffio in /opt/conda/lib/python3.7/site-packages (from httpx->gradio) (1.3.0)\n",
      "Requirement already satisfied: httpcore<0.17.0,>=0.15.0 in /opt/conda/lib/python3.7/site-packages (from httpx->gradio) (0.16.3)\n",
      "Requirement already satisfied: rfc3986[idna2008]<2,>=1.3 in /opt/conda/lib/python3.7/site-packages (from httpx->gradio) (1.5.0)\n",
      "Requirement already satisfied: mdurl~=0.1 in /opt/conda/lib/python3.7/site-packages (from markdown-it-py[linkify,plugins]->gradio) (0.1.2)\n",
      "Requirement already satisfied: linkify-it-py~=1.0 in /opt/conda/lib/python3.7/site-packages (from markdown-it-py[linkify,plugins]->gradio) (1.0.3)\n",
      "Requirement already satisfied: mdit-py-plugins in /opt/conda/lib/python3.7/site-packages (from markdown-it-py[linkify,plugins]->gradio) (0.3.3)\n",
      "Requirement already satisfied: kiwisolver>=1.0.1 in /opt/conda/lib/python3.7/site-packages (from matplotlib->gradio) (1.1.0)\n",
      "Requirement already satisfied: cycler>=0.10 in /opt/conda/lib/python3.7/site-packages (from matplotlib->gradio) (0.10.0)\n",
      "Requirement already satisfied: pyparsing!=2.0.4,!=2.1.2,!=2.1.6,>=2.0.1 in /opt/conda/lib/python3.7/site-packages (from matplotlib->gradio) (2.4.6)\n",
      "Requirement already satisfied: six>=1.4.0 in /opt/conda/lib/python3.7/site-packages (from python-multipart->gradio) (1.14.0)\n",
      "Requirement already satisfied: idna<4,>=2.5 in /opt/conda/lib/python3.7/site-packages (from requests->gradio) (2.8)\n",
      "Requirement already satisfied: urllib3<1.27,>=1.21.1 in /opt/conda/lib/python3.7/site-packages (from requests->gradio) (1.26.13)\n",
      "Requirement already satisfied: h11>=0.8 in /opt/conda/lib/python3.7/site-packages (from uvicorn->gradio) (0.14.0)\n",
      "Requirement already satisfied: click>=7.0 in /opt/conda/lib/python3.7/site-packages (from uvicorn->gradio) (7.0)\n",
      "Requirement already satisfied: setuptools in /opt/conda/lib/python3.7/site-packages (from jsonschema>=3.0->altair>=4.2.0->gradio) (59.3.0)\n",
      "Requirement already satisfied: importlib-metadata in /opt/conda/lib/python3.7/site-packages (from jsonschema>=3.0->altair>=4.2.0->gradio) (5.1.0)\n",
      "Requirement already satisfied: pyrsistent>=0.14.0 in /opt/conda/lib/python3.7/site-packages (from jsonschema>=3.0->altair>=4.2.0->gradio) (0.15.7)\n",
      "Requirement already satisfied: uc-micro-py in /opt/conda/lib/python3.7/site-packages (from linkify-it-py~=1.0->markdown-it-py[linkify,plugins]->gradio) (1.0.1)\n",
      "Requirement already satisfied: zipp>=0.5 in /opt/conda/lib/python3.7/site-packages (from importlib-metadata->jsonschema>=3.0->altair>=4.2.0->gradio) (3.11.0)\n",
      "\u001b[33mWARNING: Running pip as the 'root' user can result in broken permissions and conflicting behaviour with the system package manager. It is recommended to use a virtual environment instead: https://pip.pypa.io/warnings/venv\u001b[0m\u001b[33m\n",
      "\u001b[0m\u001b[33mWARNING: Running pip as the 'root' user can result in broken permissions and conflicting behaviour with the system package manager. It is recommended to use a virtual environment instead: https://pip.pypa.io/warnings/venv\u001b[0m\u001b[33m\n",
      "\u001b[0m"
     ]
    }
   ],
   "source": [
    "#install transformers and other dependencies\n",
    "!pip install --upgrade pip\n",
    "!pip install datasets>=2.6.1\n",
    "!pip install git+https://github.com/huggingface/transformers\n",
    "!pip install librosa\n",
    "!pip install evaluate>=0.3.0\n",
    "!pip install jiwer\n",
    "!pip install gradio\n"
   ]
  },
  {
   "cell_type": "code",
   "execution_count": 2,
   "id": "129b1311-ca21-46a8-acf7-bd56ebb3c4f0",
   "metadata": {
    "tags": []
   },
   "outputs": [
    {
     "name": "stdout",
     "output_type": "stream",
     "text": [
      "Downloading and preparing dataset common_voice_11_0/zh-TW to /root/.cache/huggingface/datasets/mozilla-foundation___common_voice_11_0/zh-TW/11.0.0/2c65b95d99ca879b1b1074ea197b65e0497848fd697fdb0582e0f6b75b6f4da0...\n"
     ]
    },
    {
     "data": {
      "application/vnd.jupyter.widget-view+json": {
       "model_id": "5fb43b3b86464429849614ee18f35910",
       "version_major": 2,
       "version_minor": 0
      },
      "text/plain": [
       "Downloading data files:   0%|          | 0/5 [00:00<?, ?it/s]"
      ]
     },
     "metadata": {},
     "output_type": "display_data"
    },
    {
     "data": {
      "application/vnd.jupyter.widget-view+json": {
       "model_id": "b5d52eee24ed4df5bd16b74abed4615f",
       "version_major": 2,
       "version_minor": 0
      },
      "text/plain": [
       "Downloading data:   0%|          | 0.00/152M [00:00<?, ?B/s]"
      ]
     },
     "metadata": {},
     "output_type": "display_data"
    },
    {
     "data": {
      "application/vnd.jupyter.widget-view+json": {
       "model_id": "74efb4ad6e1245a7a51aed92f369e938",
       "version_major": 2,
       "version_minor": 0
      },
      "text/plain": [
       "Downloading data:   0%|          | 0.00/120M [00:00<?, ?B/s]"
      ]
     },
     "metadata": {},
     "output_type": "display_data"
    },
    {
     "data": {
      "application/vnd.jupyter.widget-view+json": {
       "model_id": "679edb69f5e2413cbb34cebbd20ade01",
       "version_major": 2,
       "version_minor": 0
      },
      "text/plain": [
       "Downloading data:   0%|          | 0.00/134M [00:00<?, ?B/s]"
      ]
     },
     "metadata": {},
     "output_type": "display_data"
    },
    {
     "data": {
      "application/vnd.jupyter.widget-view+json": {
       "model_id": "7b57f1e2b40247c781d58084d2c71b73",
       "version_major": 2,
       "version_minor": 0
      },
      "text/plain": [
       "Downloading data:   0%|          | 0.00/995M [00:00<?, ?B/s]"
      ]
     },
     "metadata": {},
     "output_type": "display_data"
    },
    {
     "data": {
      "application/vnd.jupyter.widget-view+json": {
       "model_id": "7d21cb385e3f425e85586e7bef581e52",
       "version_major": 2,
       "version_minor": 0
      },
      "text/plain": [
       "Downloading data:   0%|          | 0.00/18.6M [00:00<?, ?B/s]"
      ]
     },
     "metadata": {},
     "output_type": "display_data"
    },
    {
     "data": {
      "application/vnd.jupyter.widget-view+json": {
       "model_id": "48e007f1a7904ea4a2b52da5a53ad1c6",
       "version_major": 2,
       "version_minor": 0
      },
      "text/plain": [
       "Downloading data:   0%|          | 0.00/128M [00:00<?, ?B/s]"
      ]
     },
     "metadata": {},
     "output_type": "display_data"
    },
    {
     "name": "stderr",
     "output_type": "stream",
     "text": [
      "Computing checksums of downloaded files. They can be used for integrity verification. You can disable this by passing ignore_verifications=True to load_dataset\n"
     ]
    },
    {
     "data": {
      "application/vnd.jupyter.widget-view+json": {
       "model_id": "73a460b6419e49008722995d90d353ab",
       "version_major": 2,
       "version_minor": 0
      },
      "text/plain": [
       "Computing checksums: 100%|##########| 6/6 [00:05<00:00,  1.19it/s]"
      ]
     },
     "metadata": {},
     "output_type": "display_data"
    },
    {
     "data": {
      "application/vnd.jupyter.widget-view+json": {
       "model_id": "aa440173198645548f7023f42feeb28f",
       "version_major": 2,
       "version_minor": 0
      },
      "text/plain": [
       "Extracting data files:   0%|          | 0/5 [00:00<?, ?it/s]"
      ]
     },
     "metadata": {},
     "output_type": "display_data"
    },
    {
     "data": {
      "application/vnd.jupyter.widget-view+json": {
       "model_id": "1faa9b215eb644c8ad2f49333e49c166",
       "version_major": 2,
       "version_minor": 0
      },
      "text/plain": [
       "Downloading data files:   0%|          | 0/5 [00:00<?, ?it/s]"
      ]
     },
     "metadata": {},
     "output_type": "display_data"
    },
    {
     "data": {
      "application/vnd.jupyter.widget-view+json": {
       "model_id": "438b1a17e3304270a4424fa8e5750ac7",
       "version_major": 2,
       "version_minor": 0
      },
      "text/plain": [
       "Downloading data:   0%|          | 0.00/1.49M [00:00<?, ?B/s]"
      ]
     },
     "metadata": {},
     "output_type": "display_data"
    },
    {
     "data": {
      "application/vnd.jupyter.widget-view+json": {
       "model_id": "87a409bfaaea4e06b23392df95a20731",
       "version_major": 2,
       "version_minor": 0
      },
      "text/plain": [
       "Downloading data:   0%|          | 0.00/1.02M [00:00<?, ?B/s]"
      ]
     },
     "metadata": {},
     "output_type": "display_data"
    },
    {
     "data": {
      "application/vnd.jupyter.widget-view+json": {
       "model_id": "5e2c62e251d04c7d917ff6d47ccd3762",
       "version_major": 2,
       "version_minor": 0
      },
      "text/plain": [
       "Downloading data:   0%|          | 0.00/983k [00:00<?, ?B/s]"
      ]
     },
     "metadata": {},
     "output_type": "display_data"
    },
    {
     "data": {
      "application/vnd.jupyter.widget-view+json": {
       "model_id": "304a26be89094b2885dce60bd8d76610",
       "version_major": 2,
       "version_minor": 0
      },
      "text/plain": [
       "Downloading data:   0%|          | 0.00/8.75M [00:00<?, ?B/s]"
      ]
     },
     "metadata": {},
     "output_type": "display_data"
    },
    {
     "data": {
      "application/vnd.jupyter.widget-view+json": {
       "model_id": "fff3a14f95664607822214ea48771118",
       "version_major": 2,
       "version_minor": 0
      },
      "text/plain": [
       "Downloading data:   0%|          | 0.00/995k [00:00<?, ?B/s]"
      ]
     },
     "metadata": {},
     "output_type": "display_data"
    },
    {
     "data": {
      "application/vnd.jupyter.widget-view+json": {
       "model_id": "2f83055a8b3e483e983b1ac00b9dbb47",
       "version_major": 2,
       "version_minor": 0
      },
      "text/plain": [
       "Extracting data files:   0%|          | 0/5 [00:00<?, ?it/s]"
      ]
     },
     "metadata": {},
     "output_type": "display_data"
    },
    {
     "data": {
      "application/vnd.jupyter.widget-view+json": {
       "model_id": "",
       "version_major": 2,
       "version_minor": 0
      },
      "text/plain": [
       "Generating train split: 0 examples [00:00, ? examples/s]"
      ]
     },
     "metadata": {},
     "output_type": "display_data"
    },
    {
     "name": "stderr",
     "output_type": "stream",
     "text": [
      "\n",
      "Reading metadata...: 6568it [00:00, 113753.70it/s]\n"
     ]
    },
    {
     "data": {
      "application/vnd.jupyter.widget-view+json": {
       "model_id": "",
       "version_major": 2,
       "version_minor": 0
      },
      "text/plain": [
       "Generating validation split: 0 examples [00:00, ? examples/s]"
      ]
     },
     "metadata": {},
     "output_type": "display_data"
    },
    {
     "name": "stderr",
     "output_type": "stream",
     "text": [
      "\n",
      "\n",
      "Reading metadata...: 4709it [00:00, 116812.32it/s]\n"
     ]
    },
    {
     "data": {
      "application/vnd.jupyter.widget-view+json": {
       "model_id": "",
       "version_major": 2,
       "version_minor": 0
      },
      "text/plain": [
       "Generating test split: 0 examples [00:00, ? examples/s]"
      ]
     },
     "metadata": {},
     "output_type": "display_data"
    },
    {
     "name": "stderr",
     "output_type": "stream",
     "text": [
      "\n",
      "\n",
      "Reading metadata...: 4709it [00:00, 119854.71it/s]\n"
     ]
    },
    {
     "data": {
      "application/vnd.jupyter.widget-view+json": {
       "model_id": "",
       "version_major": 2,
       "version_minor": 0
      },
      "text/plain": [
       "Generating other split: 0 examples [00:00, ? examples/s]"
      ]
     },
     "metadata": {},
     "output_type": "display_data"
    },
    {
     "name": "stderr",
     "output_type": "stream",
     "text": [
      "\n",
      "\n",
      "\n",
      "Reading metadata...: 0it [00:00, ?it/s]\u001b[A\u001b[A\u001b[A\n",
      "\n",
      "\n",
      "Reading metadata...: 11243it [00:00, 112422.33it/s]\u001b[A\u001b[A\u001b[A\n",
      "\n",
      "\n",
      "Reading metadata...: 22486it [00:00, 110995.74it/s]\u001b[A\u001b[A\u001b[A\n",
      "\n",
      "\n",
      "Reading metadata...: 40630it [00:00, 112746.30it/s]\u001b[A\u001b[A\u001b[A\n"
     ]
    },
    {
     "data": {
      "application/vnd.jupyter.widget-view+json": {
       "model_id": "",
       "version_major": 2,
       "version_minor": 0
      },
      "text/plain": [
       "Generating invalidated split: 0 examples [00:00, ? examples/s]"
      ]
     },
     "metadata": {},
     "output_type": "display_data"
    },
    {
     "name": "stderr",
     "output_type": "stream",
     "text": [
      "\n",
      "Reading metadata...: 4596it [00:00, 121629.26it/s]\n"
     ]
    },
    {
     "name": "stdout",
     "output_type": "stream",
     "text": [
      "Dataset common_voice_11_0 downloaded and prepared to /root/.cache/huggingface/datasets/mozilla-foundation___common_voice_11_0/zh-TW/11.0.0/2c65b95d99ca879b1b1074ea197b65e0497848fd697fdb0582e0f6b75b6f4da0. Subsequent calls will reuse this data.\n"
     ]
    },
    {
     "data": {
      "application/vnd.jupyter.widget-view+json": {
       "model_id": "1fc5be94d66a48fa8db440c8080bfdc5",
       "version_major": 2,
       "version_minor": 0
      },
      "text/plain": [
       "  0%|          | 0/3 [00:00<?, ?it/s]"
      ]
     },
     "metadata": {},
     "output_type": "display_data"
    },
    {
     "name": "stdout",
     "output_type": "stream",
     "text": [
      "Dataset({\n",
      "    features: ['client_id', 'path', 'audio', 'sentence', 'up_votes', 'down_votes', 'age', 'gender', 'accent', 'locale', 'segment'],\n",
      "    num_rows: 6568\n",
      "})\n"
     ]
    }
   ],
   "source": [
    "#Download common voice dataset\n",
    "from datasets import load_dataset, DatasetDict\n",
    "\n",
    "common_voice = DatasetDict()\n",
    "\n",
    "train_dataset, test_dataset, validation_dataset = load_dataset(\"mozilla-foundation/common_voice_11_0\", \"zh-TW\", split=[\"train\", \"validation\", \"test\"], use_auth_token=False)\n",
    "print(train_dataset)\n"
   ]
  },
  {
   "cell_type": "code",
   "execution_count": 3,
   "id": "946c3ff5-0d5a-4814-9d5a-c42f755075d4",
   "metadata": {},
   "outputs": [
    {
     "name": "stdout",
     "output_type": "stream",
     "text": [
      "DatasetDict({\n",
      "    train: Dataset({\n",
      "        features: ['client_id', 'path', 'audio', 'sentence', 'up_votes', 'down_votes', 'age', 'gender', 'accent', 'locale', 'segment'],\n",
      "        num_rows: 6568\n",
      "    })\n",
      "    validation: Dataset({\n",
      "        features: ['client_id', 'path', 'audio', 'sentence', 'up_votes', 'down_votes', 'age', 'gender', 'accent', 'locale', 'segment'],\n",
      "        num_rows: 4709\n",
      "    })\n",
      "    test: Dataset({\n",
      "        features: ['client_id', 'path', 'audio', 'sentence', 'up_votes', 'down_votes', 'age', 'gender', 'accent', 'locale', 'segment'],\n",
      "        num_rows: 4709\n",
      "    })\n",
      "})\n"
     ]
    }
   ],
   "source": [
    "#Assign corresponding splits into the dataset\n",
    "common_voice[\"train\"]=train_dataset\n",
    "common_voice[\"validation\"]=validation_dataset\n",
    "common_voice[\"test\"]=test_dataset\n",
    "print(common_voice)\n"
   ]
  },
  {
   "cell_type": "code",
   "execution_count": 4,
   "id": "46fc221a-dfe4-498e-ac0e-4e50355a63a6",
   "metadata": {
    "tags": []
   },
   "outputs": [
    {
     "data": {
      "application/vnd.jupyter.widget-view+json": {
       "model_id": "",
       "version_major": 2,
       "version_minor": 0
      },
      "text/plain": [
       "Saving the dataset (0/1 shards):   0%|          | 0/6568 [00:00<?, ? examples/s]"
      ]
     },
     "metadata": {},
     "output_type": "display_data"
    },
    {
     "data": {
      "application/vnd.jupyter.widget-view+json": {
       "model_id": "",
       "version_major": 2,
       "version_minor": 0
      },
      "text/plain": [
       "Saving the dataset (0/1 shards):   0%|          | 0/4709 [00:00<?, ? examples/s]"
      ]
     },
     "metadata": {},
     "output_type": "display_data"
    },
    {
     "data": {
      "application/vnd.jupyter.widget-view+json": {
       "model_id": "",
       "version_major": 2,
       "version_minor": 0
      },
      "text/plain": [
       "Saving the dataset (0/1 shards):   0%|          | 0/4709 [00:00<?, ? examples/s]"
      ]
     },
     "metadata": {},
     "output_type": "display_data"
    }
   ],
   "source": [
    "#Save the dataset to disk so that we can recover the dataset more easily.\n",
    "common_voice.save_to_disk(\"zhtw-common-voice-original\")"
   ]
  },
  {
   "cell_type": "code",
   "execution_count": 5,
   "id": "4fb9fada-8203-46ff-99ab-5f120a19ffdb",
   "metadata": {},
   "outputs": [],
   "source": [
    "#Remove unneeded field for the training\n",
    "common_voice = common_voice.remove_columns([\"accent\", \"age\", \"client_id\", \"down_votes\", \"gender\", \"locale\", \"path\", \"segment\", \"up_votes\"])\n",
    "common_voice"
   ]
  },
  {
   "cell_type": "code",
   "execution_count": 7,
   "id": "88f0f1f3-38bf-4760-830f-ae52194d6b2b",
   "metadata": {},
   "outputs": [
    {
     "name": "stderr",
     "output_type": "stream",
     "text": [
      "/opt/conda/lib/python3.7/site-packages/huggingface_hub/utils/_hf_folder.py:93: UserWarning: A token has been found in `/root/.huggingface/token`. This is the old path where tokens were stored. The new location is `/root/.cache/huggingface/token` which is configurable using `HF_HOME` environment variable. Your token has been copied to this new location. You can now safely delete the old token file manually or use `huggingface-cli logout`.\n",
      "  f\"A token has been found in `{cls._old_path_token}`. This is the old\"\n"
     ]
    },
    {
     "data": {
      "application/vnd.jupyter.widget-view+json": {
       "model_id": "2d763ee8f1614db4b356c7ad331dea5b",
       "version_major": 2,
       "version_minor": 0
      },
      "text/plain": [
       "Downloading (…)okenizer_config.json:   0%|          | 0.00/842 [00:00<?, ?B/s]"
      ]
     },
     "metadata": {},
     "output_type": "display_data"
    },
    {
     "data": {
      "application/vnd.jupyter.widget-view+json": {
       "model_id": "308dec9758aa44ec9983993041212ffe",
       "version_major": 2,
       "version_minor": 0
      },
      "text/plain": [
       "Downloading (…)olve/main/vocab.json:   0%|          | 0.00/1.04M [00:00<?, ?B/s]"
      ]
     },
     "metadata": {},
     "output_type": "display_data"
    },
    {
     "data": {
      "application/vnd.jupyter.widget-view+json": {
       "model_id": "2d12ac17e7ba4c218b1bf2ca0527dca1",
       "version_major": 2,
       "version_minor": 0
      },
      "text/plain": [
       "Downloading (…)/main/tokenizer.json:   0%|          | 0.00/2.20M [00:00<?, ?B/s]"
      ]
     },
     "metadata": {},
     "output_type": "display_data"
    },
    {
     "data": {
      "application/vnd.jupyter.widget-view+json": {
       "model_id": "daa69ac1745b436f9655456ba681c878",
       "version_major": 2,
       "version_minor": 0
      },
      "text/plain": [
       "Downloading (…)in/added_tokens.json:   0%|          | 0.00/2.08k [00:00<?, ?B/s]"
      ]
     },
     "metadata": {},
     "output_type": "display_data"
    },
    {
     "data": {
      "application/vnd.jupyter.widget-view+json": {
       "model_id": "9dd4f39689ed41b1a2d0b7dd4ef5820a",
       "version_major": 2,
       "version_minor": 0
      },
      "text/plain": [
       "Downloading (…)cial_tokens_map.json:   0%|          | 0.00/2.08k [00:00<?, ?B/s]"
      ]
     },
     "metadata": {},
     "output_type": "display_data"
    }
   ],
   "source": [
    "#Let's start from the pretrained small model\n",
    "from transformers import WhisperProcessor\n",
    "\n",
    "processor = WhisperProcessor.from_pretrained(\"openai/whisper-small\", language=\"Chinese\", task=\"transcribe\")\n",
    "tokenizer = processor.tokenizer"
   ]
  },
  {
   "cell_type": "code",
   "execution_count": 8,
   "id": "ec06333e-a90e-4120-8395-b71c4141df27",
   "metadata": {},
   "outputs": [
    {
     "name": "stdout",
     "output_type": "stream",
     "text": [
      "Input:                 我們一起享用\n",
      "Decoded w/ special:    <|startoftranscript|><|zh|><|transcribe|><|notimestamps|>我們一起享用<|endoftext|>\n",
      "Decoded w/out special: 我們一起享用\n",
      "Are equal:             True\n"
     ]
    }
   ],
   "source": [
    "#TODO more explanation here\n",
    "input_str = common_voice[\"train\"][0][\"sentence\"]\n",
    "labels = tokenizer(input_str).input_ids\n",
    "decoded_with_special = tokenizer.decode(labels, skip_special_tokens=False)\n",
    "decoded_str = tokenizer.decode(labels, skip_special_tokens=True)\n",
    "\n",
    "print(f\"Input:                 {input_str}\")\n",
    "print(f\"Decoded w/ special:    {decoded_with_special}\")\n",
    "print(f\"Decoded w/out special: {decoded_str}\")\n",
    "print(f\"Are equal:             {input_str == decoded_str}\")\n"
   ]
  },
  {
   "cell_type": "code",
   "execution_count": 9,
   "id": "0e5ee654-1be2-49af-9d09-f5561317b571",
   "metadata": {
    "tags": []
   },
   "outputs": [
    {
     "name": "stdout",
     "output_type": "stream",
     "text": [
      "{'audio': {'path': '/root/.cache/huggingface/datasets/downloads/extracted/51e978c47798482641ccccdcb8d659ea097ecfb24e17f8cacf723f3d1da59cd5/common_voice_zh-TW_17626464.mp3', 'array': array([ 0.0000000e+00, -6.2706395e-15, -6.8639412e-15, ...,\n",
      "        2.1313235e-06,  1.9432746e-06, -4.8736420e-06], dtype=float32), 'sampling_rate': 48000}, 'sentence': '我們一起享用'}\n"
     ]
    }
   ],
   "source": [
    "#Let's view a sample\n",
    "print(common_voice[\"train\"][0])"
   ]
  },
  {
   "cell_type": "code",
   "execution_count": 10,
   "id": "b2427d70-71cf-49b4-b437-71c0e94a382b",
   "metadata": {
    "tags": []
   },
   "outputs": [
    {
     "name": "stdout",
     "output_type": "stream",
     "text": [
      "{'audio': {'path': '/root/.cache/huggingface/datasets/downloads/extracted/51e978c47798482641ccccdcb8d659ea097ecfb24e17f8cacf723f3d1da59cd5/common_voice_zh-TW_17626464.mp3', 'array': array([-2.2706440e-15, -5.6500422e-15,  3.8833593e-15, ...,\n",
      "       -1.0428269e-06,  5.6941203e-06,  2.4224601e-06], dtype=float32), 'sampling_rate': 16000}, 'sentence': '我們一起享用'}\n"
     ]
    }
   ],
   "source": [
    "#Downsample the samples\n",
    "from datasets import Audio\n",
    "\n",
    "common_voice = common_voice.cast_column(\"audio\", Audio(sampling_rate=16000))\n",
    "print(common_voice[\"train\"][0])\n"
   ]
  },
  {
   "cell_type": "code",
   "execution_count": 11,
   "id": "4fda9495-2482-4676-b98c-fa1cab620ea1",
   "metadata": {
    "tags": []
   },
   "outputs": [],
   "source": [
    "#Define the extraction function\n",
    "def prepare_dataset(batch):\n",
    "    # load and resample audio data from 48 to 16kHz\n",
    "    audio = batch[\"audio\"]\n",
    "\n",
    "    # compute log-Mel input features from input audio array \n",
    "    batch[\"input_features\"] = processor.feature_extractor(audio[\"array\"], sampling_rate=audio[\"sampling_rate\"]).input_features[0]\n",
    "\n",
    "    # encode target text to label ids \n",
    "    batch[\"labels\"] = tokenizer(batch[\"sentence\"]).input_ids\n",
    "    return batch\n"
   ]
  },
  {
   "cell_type": "code",
   "execution_count": 12,
   "id": "0d24cb59-dfcc-4349-ad12-8839aa0eac65",
   "metadata": {
    "tags": []
   },
   "outputs": [
    {
     "name": "stdout",
     "output_type": "stream",
     "text": [
      "       "
     ]
    },
    {
     "data": {
      "application/vnd.jupyter.widget-view+json": {
       "model_id": "2f5ff586e73b4d6c83c58013d70ac45a",
       "version_major": 2,
       "version_minor": 0
      },
      "text/plain": [
       "#2:   0%|          | 0/1642 [00:00<?, ?ex/s]"
      ]
     },
     "metadata": {},
     "output_type": "display_data"
    },
    {
     "name": "stdout",
     "output_type": "stream",
     "text": [
      " "
     ]
    },
    {
     "data": {
      "application/vnd.jupyter.widget-view+json": {
       "model_id": "caa9b3b0cf184998828bf96cfdd4cb49",
       "version_major": 2,
       "version_minor": 0
      },
      "text/plain": [
       "#1:   0%|          | 0/1642 [00:00<?, ?ex/s]"
      ]
     },
     "metadata": {},
     "output_type": "display_data"
    },
    {
     "data": {
      "application/vnd.jupyter.widget-view+json": {
       "model_id": "bb2719ca99f64cf4b515a45e144b83bd",
       "version_major": 2,
       "version_minor": 0
      },
      "text/plain": [
       "#3:   0%|          | 0/1642 [00:00<?, ?ex/s]"
      ]
     },
     "metadata": {},
     "output_type": "display_data"
    },
    {
     "data": {
      "application/vnd.jupyter.widget-view+json": {
       "model_id": "c0eb325b857345e2b6dc7f065c068fb5",
       "version_major": 2,
       "version_minor": 0
      },
      "text/plain": [
       "#0:   0%|          | 0/1642 [00:00<?, ?ex/s]"
      ]
     },
     "metadata": {},
     "output_type": "display_data"
    },
    {
     "name": "stdout",
     "output_type": "stream",
     "text": [
      "        "
     ]
    },
    {
     "data": {
      "application/vnd.jupyter.widget-view+json": {
       "model_id": "43d8f26a58ae4250bc45db49e7b57d55",
       "version_major": 2,
       "version_minor": 0
      },
      "text/plain": [
       "#3:   0%|          | 0/1177 [00:00<?, ?ex/s]"
      ]
     },
     "metadata": {},
     "output_type": "display_data"
    },
    {
     "data": {
      "application/vnd.jupyter.widget-view+json": {
       "model_id": "1d975d46bfaa49169e4083505f565f04",
       "version_major": 2,
       "version_minor": 0
      },
      "text/plain": [
       "#2:   0%|          | 0/1177 [00:00<?, ?ex/s]"
      ]
     },
     "metadata": {},
     "output_type": "display_data"
    },
    {
     "data": {
      "application/vnd.jupyter.widget-view+json": {
       "model_id": "01588daf8598489fb2abe54b879082d0",
       "version_major": 2,
       "version_minor": 0
      },
      "text/plain": [
       "#1:   0%|          | 0/1177 [00:00<?, ?ex/s]"
      ]
     },
     "metadata": {},
     "output_type": "display_data"
    },
    {
     "data": {
      "application/vnd.jupyter.widget-view+json": {
       "model_id": "b12d6c45ef05419d82f6421dc7ca5abc",
       "version_major": 2,
       "version_minor": 0
      },
      "text/plain": [
       "#0:   0%|          | 0/1178 [00:00<?, ?ex/s]"
      ]
     },
     "metadata": {},
     "output_type": "display_data"
    },
    {
     "name": "stdout",
     "output_type": "stream",
     "text": [
      "        "
     ]
    },
    {
     "data": {
      "application/vnd.jupyter.widget-view+json": {
       "model_id": "0257b66abce14bd999854e0b0953de9e",
       "version_major": 2,
       "version_minor": 0
      },
      "text/plain": [
       "#3:   0%|          | 0/1177 [00:00<?, ?ex/s]"
      ]
     },
     "metadata": {},
     "output_type": "display_data"
    },
    {
     "data": {
      "application/vnd.jupyter.widget-view+json": {
       "model_id": "ce5f124acc5f4cc681f0a12ee181e0e7",
       "version_major": 2,
       "version_minor": 0
      },
      "text/plain": [
       "#0:   0%|          | 0/1178 [00:00<?, ?ex/s]"
      ]
     },
     "metadata": {},
     "output_type": "display_data"
    },
    {
     "data": {
      "application/vnd.jupyter.widget-view+json": {
       "model_id": "1910fbcb6f6447b0b05a2240fcac6ecd",
       "version_major": 2,
       "version_minor": 0
      },
      "text/plain": [
       "#1:   0%|          | 0/1177 [00:00<?, ?ex/s]"
      ]
     },
     "metadata": {},
     "output_type": "display_data"
    },
    {
     "data": {
      "application/vnd.jupyter.widget-view+json": {
       "model_id": "eb71e7109f384caeacdc2395e036ab02",
       "version_major": 2,
       "version_minor": 0
      },
      "text/plain": [
       "#2:   0%|          | 0/1177 [00:00<?, ?ex/s]"
      ]
     },
     "metadata": {},
     "output_type": "display_data"
    }
   ],
   "source": [
    "#Apply it to the whole dataset\n",
    "common_voice = common_voice.map(prepare_dataset, remove_columns=common_voice.column_names[\"train\"], num_proc=4)\n"
   ]
  },
  {
   "cell_type": "code",
   "execution_count": 16,
   "id": "60224361-5d28-47a6-a22f-8ad9ca51e3c6",
   "metadata": {
    "tags": []
   },
   "outputs": [
    {
     "data": {
      "application/vnd.jupyter.widget-view+json": {
       "model_id": "",
       "version_major": 2,
       "version_minor": 0
      },
      "text/plain": [
       "Saving the dataset (0/13 shards):   0%|          | 0/6568 [00:00<?, ? examples/s]"
      ]
     },
     "metadata": {},
     "output_type": "display_data"
    },
    {
     "data": {
      "application/vnd.jupyter.widget-view+json": {
       "model_id": "",
       "version_major": 2,
       "version_minor": 0
      },
      "text/plain": [
       "Saving the dataset (0/10 shards):   0%|          | 0/4709 [00:00<?, ? examples/s]"
      ]
     },
     "metadata": {},
     "output_type": "display_data"
    },
    {
     "data": {
      "application/vnd.jupyter.widget-view+json": {
       "model_id": "",
       "version_major": 2,
       "version_minor": 0
      },
      "text/plain": [
       "Saving the dataset (0/10 shards):   0%|          | 0/4709 [00:00<?, ? examples/s]"
      ]
     },
     "metadata": {},
     "output_type": "display_data"
    }
   ],
   "source": [
    "#Save the processed dataset to disk\n",
    "common_voice.save_to_disk(\"zhtw-common-voice-processed\")"
   ]
  },
  {
   "cell_type": "code",
   "execution_count": 20,
   "id": "c1fc5613-a79d-4b60-ab74-4d1f9d8e0ee2",
   "metadata": {
    "tags": []
   },
   "outputs": [
    {
     "data": {
      "text/plain": [
       "'s3://sagemaker-us-east-1-348052051973/whisper/data/zhtw-common-voice-processed'"
      ]
     },
     "execution_count": 20,
     "metadata": {},
     "output_type": "execute_result"
    }
   ],
   "source": [
    "#View the default bucket location\n",
    "import boto3\n",
    "import sagemaker\n",
    "import os\n",
    "from sagemaker import get_execution_role\n",
    "import os\n",
    "\n",
    "sess = sagemaker.Session()\n",
    "ROLE = get_execution_role()\n",
    "\n",
    "BUCKET = sess.default_bucket() \n",
    "PREFIX = \"whisper/data/zhtw-common-voice-processed\"\n",
    "s3uri = os.path.join(\"s3://\", BUCKET, PREFIX)\n",
    "s3uri"
   ]
  },
  {
   "cell_type": "code",
   "execution_count": 33,
   "id": "c6e7719c-4fbe-4025-b414-15045cdd6d80",
   "metadata": {
    "tags": []
   },
   "outputs": [
    {
     "name": "stdout",
     "output_type": "stream",
     "text": [
      "upload: zhtw-common-voice-processed/dataset_dict.json to s3://sagemaker-us-east-1-348052051973/whisper/data/zhtw-common-voice-processed/dataset_dict.json\n",
      "upload: zhtw-common-voice-processed/test/data-00000-of-00010.arrow to s3://sagemaker-us-east-1-348052051973/whisper/data/zhtw-common-voice-processed/test/data-00000-of-00010.arrow\n",
      "upload: zhtw-common-voice-processed/test/data-00001-of-00010.arrow to s3://sagemaker-us-east-1-348052051973/whisper/data/zhtw-common-voice-processed/test/data-00001-of-00010.arrow\n",
      "upload: zhtw-common-voice-processed/test/data-00002-of-00010.arrow to s3://sagemaker-us-east-1-348052051973/whisper/data/zhtw-common-voice-processed/test/data-00002-of-00010.arrow\n",
      "upload: zhtw-common-voice-processed/test/data-00004-of-00010.arrow to s3://sagemaker-us-east-1-348052051973/whisper/data/zhtw-common-voice-processed/test/data-00004-of-00010.arrow\n",
      "upload: zhtw-common-voice-processed/test/data-00003-of-00010.arrow to s3://sagemaker-us-east-1-348052051973/whisper/data/zhtw-common-voice-processed/test/data-00003-of-00010.arrow\n",
      "upload: zhtw-common-voice-processed/test/dataset_info.json to s3://sagemaker-us-east-1-348052051973/whisper/data/zhtw-common-voice-processed/test/dataset_info.json\n",
      "upload: zhtw-common-voice-processed/test/data-00008-of-00010.arrow to s3://sagemaker-us-east-1-348052051973/whisper/data/zhtw-common-voice-processed/test/data-00008-of-00010.arrow\n",
      "upload: zhtw-common-voice-processed/test/state.json to s3://sagemaker-us-east-1-348052051973/whisper/data/zhtw-common-voice-processed/test/state.json\n",
      "upload: zhtw-common-voice-processed/test/data-00005-of-00010.arrow to s3://sagemaker-us-east-1-348052051973/whisper/data/zhtw-common-voice-processed/test/data-00005-of-00010.arrow\n",
      "upload: zhtw-common-voice-processed/test/data-00009-of-00010.arrow to s3://sagemaker-us-east-1-348052051973/whisper/data/zhtw-common-voice-processed/test/data-00009-of-00010.arrow\n",
      "upload: zhtw-common-voice-processed/test/data-00006-of-00010.arrow to s3://sagemaker-us-east-1-348052051973/whisper/data/zhtw-common-voice-processed/test/data-00006-of-00010.arrow\n",
      "upload: zhtw-common-voice-processed/test/data-00007-of-00010.arrow to s3://sagemaker-us-east-1-348052051973/whisper/data/zhtw-common-voice-processed/test/data-00007-of-00010.arrow\n",
      "upload: zhtw-common-voice-processed/train/data-00000-of-00013.arrow to s3://sagemaker-us-east-1-348052051973/whisper/data/zhtw-common-voice-processed/train/data-00000-of-00013.arrow\n",
      "upload: zhtw-common-voice-processed/train/data-00001-of-00013.arrow to s3://sagemaker-us-east-1-348052051973/whisper/data/zhtw-common-voice-processed/train/data-00001-of-00013.arrow\n",
      "upload: zhtw-common-voice-processed/train/data-00002-of-00013.arrow to s3://sagemaker-us-east-1-348052051973/whisper/data/zhtw-common-voice-processed/train/data-00002-of-00013.arrow\n",
      "upload: zhtw-common-voice-processed/train/data-00003-of-00013.arrow to s3://sagemaker-us-east-1-348052051973/whisper/data/zhtw-common-voice-processed/train/data-00003-of-00013.arrow\n",
      "upload: zhtw-common-voice-processed/train/data-00004-of-00013.arrow to s3://sagemaker-us-east-1-348052051973/whisper/data/zhtw-common-voice-processed/train/data-00004-of-00013.arrow\n",
      "upload: zhtw-common-voice-processed/train/data-00005-of-00013.arrow to s3://sagemaker-us-east-1-348052051973/whisper/data/zhtw-common-voice-processed/train/data-00005-of-00013.arrow\n",
      "upload: zhtw-common-voice-processed/train/data-00007-of-00013.arrow to s3://sagemaker-us-east-1-348052051973/whisper/data/zhtw-common-voice-processed/train/data-00007-of-00013.arrow\n",
      "upload: zhtw-common-voice-processed/train/data-00006-of-00013.arrow to s3://sagemaker-us-east-1-348052051973/whisper/data/zhtw-common-voice-processed/train/data-00006-of-00013.arrow\n",
      "upload: zhtw-common-voice-processed/train/dataset_info.json to s3://sagemaker-us-east-1-348052051973/whisper/data/zhtw-common-voice-processed/train/dataset_info.json\n",
      "upload: zhtw-common-voice-processed/train/data-00008-of-00013.arrow to s3://sagemaker-us-east-1-348052051973/whisper/data/zhtw-common-voice-processed/train/data-00008-of-00013.arrow\n",
      "upload: zhtw-common-voice-processed/train/state.json to s3://sagemaker-us-east-1-348052051973/whisper/data/zhtw-common-voice-processed/train/state.json\n",
      "upload: zhtw-common-voice-processed/train/data-00009-of-00013.arrow to s3://sagemaker-us-east-1-348052051973/whisper/data/zhtw-common-voice-processed/train/data-00009-of-00013.arrow\n",
      "upload: zhtw-common-voice-processed/train/data-00010-of-00013.arrow to s3://sagemaker-us-east-1-348052051973/whisper/data/zhtw-common-voice-processed/train/data-00010-of-00013.arrow\n",
      "upload: zhtw-common-voice-processed/validation/data-00000-of-00010.arrow to s3://sagemaker-us-east-1-348052051973/whisper/data/zhtw-common-voice-processed/validation/data-00000-of-00010.arrow\n",
      "upload: zhtw-common-voice-processed/train/data-00011-of-00013.arrow to s3://sagemaker-us-east-1-348052051973/whisper/data/zhtw-common-voice-processed/train/data-00011-of-00013.arrow\n",
      "upload: zhtw-common-voice-processed/train/data-00012-of-00013.arrow to s3://sagemaker-us-east-1-348052051973/whisper/data/zhtw-common-voice-processed/train/data-00012-of-00013.arrow\n",
      "upload: zhtw-common-voice-processed/validation/data-00001-of-00010.arrow to s3://sagemaker-us-east-1-348052051973/whisper/data/zhtw-common-voice-processed/validation/data-00001-of-00010.arrow\n",
      "upload: zhtw-common-voice-processed/validation/data-00002-of-00010.arrow to s3://sagemaker-us-east-1-348052051973/whisper/data/zhtw-common-voice-processed/validation/data-00002-of-00010.arrow\n",
      "upload: zhtw-common-voice-processed/validation/data-00003-of-00010.arrow to s3://sagemaker-us-east-1-348052051973/whisper/data/zhtw-common-voice-processed/validation/data-00003-of-00010.arrow\n",
      "upload: zhtw-common-voice-processed/validation/data-00004-of-00010.arrow to s3://sagemaker-us-east-1-348052051973/whisper/data/zhtw-common-voice-processed/validation/data-00004-of-00010.arrow\n",
      "upload: zhtw-common-voice-processed/validation/data-00006-of-00010.arrow to s3://sagemaker-us-east-1-348052051973/whisper/data/zhtw-common-voice-processed/validation/data-00006-of-00010.arrow\n",
      "upload: zhtw-common-voice-processed/validation/dataset_info.json to s3://sagemaker-us-east-1-348052051973/whisper/data/zhtw-common-voice-processed/validation/dataset_info.json\n",
      "upload: zhtw-common-voice-processed/validation/state.json to s3://sagemaker-us-east-1-348052051973/whisper/data/zhtw-common-voice-processed/validation/state.json\n",
      "upload: zhtw-common-voice-processed/validation/data-00005-of-00010.arrow to s3://sagemaker-us-east-1-348052051973/whisper/data/zhtw-common-voice-processed/validation/data-00005-of-00010.arrow\n",
      "upload: zhtw-common-voice-processed/validation/data-00007-of-00010.arrow to s3://sagemaker-us-east-1-348052051973/whisper/data/zhtw-common-voice-processed/validation/data-00007-of-00010.arrow\n",
      "upload: zhtw-common-voice-processed/validation/data-00008-of-00010.arrow to s3://sagemaker-us-east-1-348052051973/whisper/data/zhtw-common-voice-processed/validation/data-00008-of-00010.arrow\n",
      "upload: zhtw-common-voice-processed/validation/data-00009-of-00010.arrow to s3://sagemaker-us-east-1-348052051973/whisper/data/zhtw-common-voice-processed/validation/data-00009-of-00010.arrow\n"
     ]
    }
   ],
   "source": [
    "#Use the aws s3 cli to upload the processed dataset. You could also choose to use the boto3 python sdk to do the upload.\n",
    "!aws s3 cp --recursive zhtw-common-voice-processed s3://sagemaker-us-east-1-348052051973/whisper/data/zhtw-common-voice-processed"
   ]
  },
  {
   "cell_type": "code",
   "execution_count": 21,
   "id": "d3be8c35-70a9-4b97-a1e7-c4b3f15ff7e5",
   "metadata": {},
   "outputs": [],
   "source": [
    "!chmod 777 ~/.cache"
   ]
  },
  {
   "cell_type": "code",
   "execution_count": 22,
   "id": "2901b250-bd5a-48e5-9bb3-15b2c200f17c",
   "metadata": {
    "tags": []
   },
   "outputs": [
    {
     "name": "stdout",
     "output_type": "stream",
     "text": [
      "total 28\n",
      "drwxrwxrwx  7 root root    6144 Jan  5 02:25 .\n",
      "drwx------ 27 root nogroup 6144 Feb  1 06:40 ..\n",
      "drwxr-xr-x  3 root root    6144 Jan  4 11:24 conda\n",
      "drwxr-xr-x  7 root root    6144 Feb  1 03:38 huggingface\n",
      "drwxr-xr-x  3 root root    6144 Jan  5 02:25 matplotlib\n",
      "drwxr-xr-x  5 root root    6144 Jan  4 11:25 pip\n",
      "drwxr-xr-x  3 root root    6144 Jan  4 11:14 yarn\n"
     ]
    }
   ],
   "source": [
    "!ls -la ~/.cache"
   ]
  },
  {
   "cell_type": "code",
   "execution_count": 24,
   "id": "d69a8900-ae12-4493-8611-35ee4b5b68a3",
   "metadata": {
    "tags": []
   },
   "outputs": [
    {
     "name": "stdout",
     "output_type": "stream",
     "text": [
      "total 7088\n",
      "drwx------ 27 root nogroup    6144 Feb  1 06:40  .\n",
      "drwxr-xr-x  1 root root         72 Jan 31 07:49  ..\n",
      "drwxr-xr-x  3 root root       6144 Jan  4 11:14  .aws\n",
      "-rw-------  1 root root       1648 Jan 31 07:39  .bash_history\n",
      "drwxrwxrwx  7 root root       6144 Jan  5 02:25  .cache\n",
      "drwxrwsr-x  2 root root       6144 Jan  4 11:24  .conda\n",
      "drwx------  4 root root       6144 Jan  5 02:25  .config\n",
      "-rw-------  1 root root        153 Feb  1 06:40  .git-credentials\n",
      "-rw-r--r--  1 root root        201 Feb  1 06:37  .gitconfig\n",
      "drwxr-xr-x  2 root root       6144 Jan  4 11:26  .huggingface\n",
      "drwxr-xr-x  2 root root       6144 Jan  9 05:22  .ipynb_checkpoints\n",
      "drwxr-xr-x  5 root root       6144 Jan  4 11:23  .ipython\n",
      "drwxr-xr-x  3 root root       6144 Jan  4 11:23  .jupyter\n",
      "drwxr-xr-x  3 root root       6144 Jan  4 11:14  .local\n",
      "drwx------  3 root root       6144 Jan  4 12:21  .nv\n",
      "drwxr-xr-x  2 root root       6144 Jan  4 12:31  .pip\n",
      "drwxr-xr-x  2 root root       6144 Jan 11 05:11  .sagemaker\n",
      "-rw-r--r--  1 root root          2 Jan  4 11:15  .sagemaker-jumpstart-tasks-status.json\n",
      "-rw-r--r--  1 root root        211 Jan  4 11:14  .yarnrc\n",
      "-rw-r--r--  1 root root       4343 Jan  6 04:16 '=0.3.0'\n",
      "-rw-r--r--  1 root root       4247 Jan  4 12:21 '=0.30'\n",
      "-rw-r--r--  1 root root       4058 Jan  6 04:15 '=2.6.1'\n",
      "-rw-r--r--  1 root root     136188 Feb 23  2015  MKH800_19_0001.wav\n",
      "-rw-r--r--  1 root root         36 Jan 11 05:11  cat\n",
      "drwxr-xr-x  2 root root       6144 Jan  5 02:57  flagged\n",
      "drwxr-xr-x  4 root root       6144 Jan  4 12:06  hi-common-voice\n",
      "drwxr-xr-x  3 root root       6144 Jan 31 07:39  immersionday-whisper\n",
      "drwxr-xr-x  3 root root       6144 Jan  9 05:21  scripts\n",
      "drwxr-xr-x  2 root root       6144 Jan 11 04:55  temp\n",
      "-rw-r--r--  1 root root      44544 Jan 11 03:15  whisper-cn-data-preparation.ipynb\n",
      "-rw-r--r--  1 root root      32559 Jan 11 05:15  whisper-deploy-inference-Copy1.ipynb\n",
      "-rw-r--r--  1 root root      34485 Jan 11 05:15  whisper-deploy-inference.ipynb\n",
      "-rw-r--r--  1 root root    1972797 Jan 11 03:15  whisper-finetuning-hi.ipynb\n",
      "-rw-r--r--  1 root root      17087 Jan 12 13:25  whisper-finetuning-zhcn.ipynb\n",
      "-rw-r--r--  1 root root    4168301 Jan 11 03:16  whisper-finetuning-zhtw.ipynb\n",
      "-rw-r--r--  1 root root       5662 Jan  5 13:10  whisper-finetuning.ipynb\n",
      "drwxr-xr-x  9 root root       6144 Jan  6 01:54  whisper-small-hi\n",
      "drwxr-xr-x  2 root root       6144 Jan  4 20:09  whisper-small-hi.model\n",
      "-rw-r--r--  1 root root      51042 Jan 11 03:15  whisper-tw-data-preparation.ipynb\n",
      "-rw-r--r--  1 root root     622662 Jan  6 01:54  whisper_on_notebook.ipynb\n",
      "drwxr-xr-x  5 root root       6144 Jan  6 04:33  zh-common-voice-original\n",
      "drwxr-xr-x  2 root root       6144 Jan  5 13:19  zh-common-voice-original-train\n",
      "drwxr-xr-x  5 root root       6144 Jan  6 06:13  zhcn-common-voice-processed\n",
      "drwxr-xr-x  5 root root       6144 Jan  5 12:46  zhtw-common-voice-original\n",
      "drwxr-xr-x  3 root root       6144 Jan  5 12:31  zhtw-common-voice-original-train\n",
      "drwxr-xr-x  5 root root       6144 Jan  5 13:05  zhtw-common-voice-processed\n"
     ]
    }
   ],
   "source": [
    "!ls -la ~"
   ]
  },
  {
   "cell_type": "code",
   "execution_count": null,
   "id": "1472abb2-60af-4b73-87a9-3547d02d6933",
   "metadata": {},
   "outputs": [],
   "source": []
  }
 ],
 "metadata": {
  "instance_type": "ml.g4dn.xlarge",
  "kernelspec": {
   "display_name": "Python 3 (Data Science)",
   "language": "python",
   "name": "python3__SAGEMAKER_INTERNAL__arn:aws:sagemaker:us-east-1:081325390199:image/datascience-1.0"
  },
  "language_info": {
   "codemirror_mode": {
    "name": "ipython",
    "version": 3
   },
   "file_extension": ".py",
   "mimetype": "text/x-python",
   "name": "python",
   "nbconvert_exporter": "python",
   "pygments_lexer": "ipython3",
   "version": "3.7.10"
  }
 },
 "nbformat": 4,
 "nbformat_minor": 5
}
