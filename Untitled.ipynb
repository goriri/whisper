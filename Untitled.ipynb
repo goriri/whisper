{
 "cells": [
  {
   "cell_type": "code",
   "execution_count": 39,
   "id": "9d9bd70a-2c94-4c4f-85b7-99d1a82963a3",
   "metadata": {},
   "outputs": [
    {
     "name": "stdout",
     "output_type": "stream",
     "text": [
      "Filesystem      Size  Used Avail Use% Mounted on\n",
      "devtmpfs        1.9G     0  1.9G   0% /dev\n",
      "tmpfs           1.9G     0  1.9G   0% /dev/shm\n",
      "tmpfs           1.9G  584K  1.9G   1% /run\n",
      "tmpfs           1.9G     0  1.9G   0% /sys/fs/cgroup\n",
      "/dev/nvme0n1p1  140G   96G   45G  68% /\n",
      "/dev/nvme1n1    985G  512K  935G   1% /home/ec2-user/SageMaker\n",
      "tmpfs           387M     0  387M   0% /run/user/1001\n",
      "tmpfs           387M     0  387M   0% /run/user/1002\n",
      "tmpfs           387M     0  387M   0% /run/user/1000\n"
     ]
    }
   ],
   "source": [
    "!df -kh\n"
   ]
  },
  {
   "cell_type": "code",
   "execution_count": 35,
   "id": "fa52dabe-493d-4651-ba63-f257a6af86b7",
   "metadata": {},
   "outputs": [
    {
     "name": "stdout",
     "output_type": "stream",
     "text": [
      "0\t/dev\n",
      "36M\t/etc\n",
      "0\t/local\n",
      "du: cannot access ‘/proc/9322’: No such file or directory\n",
      "du: cannot access ‘/proc/9341/task/9341/fd/3’: No such file or directory\n",
      "du: cannot access ‘/proc/9341/task/9341/fdinfo/3’: No such file or directory\n",
      "du: cannot access ‘/proc/9341/fd/4’: No such file or directory\n",
      "du: cannot access ‘/proc/9341/fdinfo/4’: No such file or directory\n",
      "0\t/proc\n",
      "584K\t/run\n",
      "0\t/sys\n",
      "16G\t/tmp\n",
      "578M\t/var\n",
      "6.0G\t/usr\n",
      "64M\t/boot\n",
      "44G\t/home\n",
      "0\t/media\n",
      "0\t/mnt\n",
      "397M\t/opt\n",
      "29M\t/root\n",
      "0\t/srv\n",
      "66G\t/\n"
     ]
    }
   ],
   "source": [
    "!sudo du -h --max-depth=1 /"
   ]
  },
  {
   "cell_type": "code",
   "execution_count": 22,
   "id": "ffab6f9f-3a22-4e1b-914f-a63c54063bd8",
   "metadata": {},
   "outputs": [
    {
     "name": "stdout",
     "output_type": "stream",
     "text": [
      "503M\t/usr/bin\n",
      "95M\t/usr/sbin\n",
      "979M\t/usr/lib\n",
      "1011M\t/usr/lib64\n",
      "700M\t/usr/share\n",
      "0\t/usr/etc\n",
      "0\t/usr/games\n",
      "29M\t/usr/include\n",
      "209M\t/usr/libexec\n",
      "2.2G\t/usr/local\n",
      "399M\t/usr/src\n",
      "6.0G\t/usr\n"
     ]
    }
   ],
   "source": [
    "!sudo du -h --max-depth=1 /usr"
   ]
  },
  {
   "cell_type": "code",
   "execution_count": 17,
   "id": "96408bcb-a8df-4adc-8e46-2746c9c46225",
   "metadata": {},
   "outputs": [],
   "source": [
    "!sudo rm -rf /usr/local/cuda*\n"
   ]
  },
  {
   "cell_type": "code",
   "execution_count": 31,
   "id": "aaa3bae8-18fd-46f6-9640-b1c83fc95597",
   "metadata": {},
   "outputs": [
    {
     "name": "stdout",
     "output_type": "stream",
     "text": [
      "570M\t/usr/local/bin\n",
      "8.0K\t/usr/local/etc\n",
      "0\t/usr/local/games\n",
      "7.2M\t/usr/local/include\n",
      "615M\t/usr/local/lib\n",
      "966M\t/usr/local/lib64\n",
      "0\t/usr/local/libexec\n",
      "0\t/usr/local/sbin\n",
      "18M\t/usr/local/share\n",
      "0\t/usr/local/src\n",
      "2.2G\t/usr/local\n"
     ]
    }
   ],
   "source": [
    "!sudo du -h --max-depth=1 /usr/local"
   ]
  },
  {
   "cell_type": "code",
   "execution_count": null,
   "id": "1956ee4e-18ae-440f-9bca-ad7203059561",
   "metadata": {},
   "outputs": [],
   "source": []
  }
 ],
 "metadata": {
  "kernelspec": {
   "display_name": "conda_python3",
   "language": "python",
   "name": "conda_python3"
  },
  "language_info": {
   "codemirror_mode": {
    "name": "ipython",
    "version": 3
   },
   "file_extension": ".py",
   "mimetype": "text/x-python",
   "name": "python",
   "nbconvert_exporter": "python",
   "pygments_lexer": "ipython3",
   "version": "3.10.6"
  }
 },
 "nbformat": 4,
 "nbformat_minor": 5
}
