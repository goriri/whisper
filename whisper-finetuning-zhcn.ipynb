{
 "cells": [
  {
   "cell_type": "code",
   "execution_count": 4,
   "id": "2a53b642-9b81-40f4-9619-d4c303aacd73",
   "metadata": {
    "tags": []
   },
   "outputs": [
    {
     "name": "stdout",
     "output_type": "stream",
     "text": [
      "sagemaker role arn: arn:aws:iam::348052051973:role/service-role/AmazonSageMakerServiceCatalogProductsExecutionRole\n",
      "sagemaker bucket: sagemaker-us-east-1-348052051973\n",
      "sagemaker session region: us-east-1\n"
     ]
    }
   ],
   "source": [
    "import json\n",
    "import time\n",
    "import boto3\n",
    "import numpy as np\n",
    "import sagemaker\n",
    "import sagemaker.huggingface\n",
    "\n",
    "#BUCKET=\"[BUCKET_NAME]\" # please use your bucket name\n",
    "PREFIX = \"whisper-zhcn\" \n",
    "ROLE = sagemaker.get_execution_role()\n",
    "sess = sagemaker.Session()\n",
    "BUCKET = sess.default_bucket()\n",
    "print(f\"sagemaker role arn: {ROLE}\")\n",
    "print(f\"sagemaker bucket: {BUCKET}\")\n",
    "print(f\"sagemaker session region: {sess.boto_region_name}\")"
   ]
  },
  {
   "cell_type": "code",
   "execution_count": 5,
   "id": "f5c5b536-d310-465e-89cd-0ac47a41ad7d",
   "metadata": {
    "tags": []
   },
   "outputs": [
    {
     "name": "stdout",
     "output_type": "stream",
     "text": [
      "Training job name:  whisper-zhcn-1673529542\n"
     ]
    }
   ],
   "source": [
    "from sagemaker.huggingface import HuggingFace\n",
    "\n",
    "#create an unique id to tag training job, model name and endpoint name. \n",
    "id = int(time.time())\n",
    "\n",
    "TRAINING_JOB_NAME = f\"{PREFIX}-{id}\"\n",
    "print('Training job name: ', TRAINING_JOB_NAME)\n",
    "\n",
    "hyperparameters = {'max_steps':50000, # you can increase the max steps to improve model accuracy\n",
    "                   'train_batch_size': 16,\n",
    "                   'eval_batch_size': 8,\n",
    "                   'model_name': \"openai/whisper-medium\",\n",
    "                   'language': \"Chinese\",\n",
    "                   'dataloader_num_workers': 16,\n",
    "                  }\n",
    "\n",
    "# define metrics definitions\n",
    "metric_definitions=[\n",
    "        {'Name': 'eval_loss', 'Regex': \"'eval_loss': ([0-9]+(.|e\\-)[0-9]+),?\"},\n",
    "        {'Name': 'eval_wer', 'Regex': \"'eval_wer': ([0-9]+(.|e\\-)[0-9]+),?\"},\n",
    "        {'Name': 'eval_runtime', 'Regex': \"'eval_runtime': ([0-9]+(.|e\\-)[0-9]+),?\"},\n",
    "        {'Name': 'eval_samples_per_second', 'Regex': \"'eval_samples_per_second': ([0-9]+(.|e\\-)[0-9]+),?\"},\n",
    "        {'Name': 'epoch', 'Regex': \"'epoch': ([0-9]+(.|e\\-)[0-9]+),?\"}]"
   ]
  },
  {
   "cell_type": "code",
   "execution_count": 6,
   "id": "cbeff9ac-fdf0-4ce7-9315-c93d93809eb4",
   "metadata": {
    "tags": []
   },
   "outputs": [],
   "source": [
    "from sagemaker.inputs import TrainingInput\n",
    "training_input_path=f's3://{BUCKET}/whisper/data/zhcn-common-voice-processed'\n",
    "\n",
    "training = TrainingInput(\n",
    "    s3_data_type='S3Prefix', # Available Options: S3Prefix | ManifestFile | AugmentedManifestFile\n",
    "    s3_data=training_input_path,\n",
    "    distribution='FullyReplicated', # Available Options: FullyReplicated | ShardedByS3Key \n",
    "    input_mode='FastFile'\n",
    ")"
   ]
  },
  {
   "cell_type": "code",
   "execution_count": 7,
   "id": "7f73d376-00a3-4b8b-8868-6e2f69ea0033",
   "metadata": {},
   "outputs": [],
   "source": [
    "# configuration for running training on smdistributed model parallel\n",
    "# mpi_options = {\n",
    "#     \"enabled\" : True,\n",
    "#     \"processes_per_host\" : 8\n",
    "# }\n",
    "\n",
    "# smp_options = {\n",
    "#     \"enabled\":True,\n",
    "#     \"parameters\": {\n",
    "#         \"microbatches\": 4,\n",
    "#         \"placement_strategy\": \"spread\",\n",
    "#         \"pipeline\": \"interleaved\",\n",
    "#         \"optimize\": \"speed\",\n",
    "#         \"partitions\": 4,\n",
    "#         \"ddp\": True,\n",
    "#         \"fp16\": True,\n",
    "#     }\n",
    "# }\n",
    "\n",
    "# distribution={\n",
    "#     \"smdistributed\": {\"modelparallel\": smp_options},\n",
    "#     \"mpi\": mpi_options\n",
    "# }\n",
    "\n",
    "# distribution = {'smdistributed':{'dataparallel':{ 'enabled': True }}}\n",
    "distribution = None\n",
    "instance_type='ml.p3.2xlarge'\n"
   ]
  },
  {
   "cell_type": "code",
   "execution_count": null,
   "id": "41852f30-0d50-41bc-8840-d121ca90d95b",
   "metadata": {
    "tags": []
   },
   "outputs": [
    {
     "name": "stdout",
     "output_type": "stream",
     "text": [
      "2023-01-12 13:19:03 Starting - Starting the training job...\n",
      "2023-01-12 13:19:30 Starting - Preparing the instances for trainingProfilerReport-1673529543: InProgress\n",
      ".........\n",
      "2023-01-12 13:20:48 Downloading - Downloading input data...\n",
      "2023-01-12 13:21:27 Training - Downloading the training image."
     ]
    }
   ],
   "source": [
    "OUTPUT_PATH= f's3://{BUCKET}/{PREFIX}/{TRAINING_JOB_NAME}/output/'\n",
    "\n",
    "huggingface_estimator = HuggingFace(entry_point='train.py',\n",
    "                                    source_dir='./scripts',\n",
    "                                    output_path= OUTPUT_PATH, \n",
    "                                    instance_count=1,\n",
    "                                    instance_type=instance_type,\n",
    "                                    transformers_version='4.17.0',\n",
    "                                    pytorch_version='1.10.2',\n",
    "                                    py_version='py38',\n",
    "                                    role=ROLE,\n",
    "                                    hyperparameters = hyperparameters,\n",
    "                                    metric_definitions = metric_definitions,\n",
    "                                    volume_size=500,\n",
    "                                    distribution=distribution,\n",
    "                                    max_run=432000,\n",
    "                                   )\n",
    "\n",
    "#Starts the training job using the fit function, training takes approximately 2 hours to complete.\n",
    "huggingface_estimator.fit({'train': training}, job_name=TRAINING_JOB_NAME)"
   ]
  },
  {
   "cell_type": "code",
   "execution_count": null,
   "id": "8e45c396-43f5-462d-a963-6b99cc29b178",
   "metadata": {},
   "outputs": [],
   "source": []
  }
 ],
 "metadata": {
  "instance_type": "ml.t3.medium",
  "kernelspec": {
   "display_name": "Python 3 (Data Science)",
   "language": "python",
   "name": "python3__SAGEMAKER_INTERNAL__arn:aws:sagemaker:us-east-1:081325390199:image/datascience-1.0"
  },
  "language_info": {
   "codemirror_mode": {
    "name": "ipython",
    "version": 3
   },
   "file_extension": ".py",
   "mimetype": "text/x-python",
   "name": "python",
   "nbconvert_exporter": "python",
   "pygments_lexer": "ipython3",
   "version": "3.7.10"
  }
 },
 "nbformat": 4,
 "nbformat_minor": 5
}
