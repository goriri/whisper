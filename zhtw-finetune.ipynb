{
 "cells": [
  {
   "cell_type": "code",
   "execution_count": 4,
   "id": "2a53b642-9b81-40f4-9619-d4c303aacd73",
   "metadata": {
    "tags": []
   },
   "outputs": [
    {
     "name": "stdout",
     "output_type": "stream",
     "text": [
      "sagemaker role arn: arn:aws:iam::348052051973:role/service-role/AmazonSageMakerServiceCatalogProductsExecutionRole\n",
      "sagemaker bucket: sagemaker-us-east-1-348052051973\n",
      "sagemaker session region: us-east-1\n",
      "data uri: s3://sagemaker-us-east-1-348052051973/whisper/data/zhtw-common-voice-processed\n"
     ]
    }
   ],
   "source": [
    "import json\n",
    "import time\n",
    "import boto3\n",
    "import numpy as np\n",
    "import sagemaker\n",
    "import sagemaker.huggingface\n",
    "import os\n",
    "\n",
    "#BUCKET=\"[BUCKET_NAME]\" # please use your bucket name\n",
    "ROLE = sagemaker.get_execution_role()\n",
    "sess = sagemaker.Session()\n",
    "BUCKET = sess.default_bucket()\n",
    "PREFIX = \"whisper/data/zhtw-common-voice-processed\"\n",
    "s3uri = os.path.join(\"s3://\", BUCKET, PREFIX)\n",
    "print(f\"sagemaker role arn: {ROLE}\")\n",
    "print(f\"sagemaker bucket: {BUCKET}\")\n",
    "print(f\"sagemaker session region: {sess.boto_region_name}\")\n",
    "print(f\"data uri: {s3uri}\")\n"
   ]
  },
  {
   "cell_type": "code",
   "execution_count": 7,
   "id": "7f73d376-00a3-4b8b-8868-6e2f69ea0033",
   "metadata": {},
   "outputs": [],
   "source": [
    "# For distributed training\n",
    "# distribution = {'smdistributed':{'dataparallel':{ 'enabled': True }}}\n",
    "# instance_type = 'ml.p3.16xlarge'\n",
    "# training_batch_size  = 4\n",
    "# eval_batch_size = 2\n",
    "\n",
    "# For single instance training\n",
    "distribution = None\n",
    "instance_type = 'ml.p3.2xlarge'\n",
    "training_batch_size  = 16\n",
    "eval_batch_size = 8"
   ]
  },
  {
   "cell_type": "code",
   "execution_count": 5,
   "id": "f5c5b536-d310-465e-89cd-0ac47a41ad7d",
   "metadata": {
    "tags": []
   },
   "outputs": [
    {
     "name": "stdout",
     "output_type": "stream",
     "text": [
      "Training job name:  whisper-zhtw-1675236655\n"
     ]
    }
   ],
   "source": [
    "from sagemaker.huggingface import HuggingFace\n",
    "\n",
    "#create an unique id to tag training job, model name and endpoint name. \n",
    "id = int(time.time())\n",
    "\n",
    "TRAINING_JOB_NAME = f\"whisper-zhtw-{id}\"\n",
    "print('Training job name: ', TRAINING_JOB_NAME)\n",
    "\n",
    "hyperparameters = {'max_steps':16000, # you can increase the max steps to improve model accuracy\n",
    "                   'train_batch_size': training_batch_size,\n",
    "                   'eval_batch_size': eval_batch_size,\n",
    "                   'model_name': \"openai/whisper-small\",\n",
    "                   'language': \"Chinese\",\n",
    "                   'dataloader_num_workers': 16,\n",
    "                  }\n",
    "\n",
    "# define metrics definitions\n",
    "metric_definitions=[\n",
    "        {'Name': 'eval_loss', 'Regex': \"'eval_loss': ([0-9]+(.|e\\-)[0-9]+),?\"},\n",
    "        {'Name': 'eval_wer', 'Regex': \"'eval_wer': ([0-9]+(.|e\\-)[0-9]+),?\"},\n",
    "        {'Name': 'eval_runtime', 'Regex': \"'eval_runtime': ([0-9]+(.|e\\-)[0-9]+),?\"},\n",
    "        {'Name': 'eval_samples_per_second', 'Regex': \"'eval_samples_per_second': ([0-9]+(.|e\\-)[0-9]+),?\"},\n",
    "        {'Name': 'epoch', 'Regex': \"'epoch': ([0-9]+(.|e\\-)[0-9]+),?\"}]"
   ]
  },
  {
   "cell_type": "code",
   "execution_count": 6,
   "id": "cbeff9ac-fdf0-4ce7-9315-c93d93809eb4",
   "metadata": {
    "tags": []
   },
   "outputs": [],
   "source": [
    "from sagemaker.inputs import TrainingInput\n",
    "training_input_path=f's3://{BUCKET}/whisper/data/zhtw-common-voice-processed'\n",
    "\n",
    "training = TrainingInput(\n",
    "    s3_data_type='S3Prefix', # Available Options: S3Prefix | ManifestFile | AugmentedManifestFile\n",
    "    s3_data=training_input_path,\n",
    "    distribution='FullyReplicated', # Available Options: FullyReplicated | ShardedByS3Key \n",
    "    input_mode='FastFile'\n",
    ")"
   ]
  },
  {
   "cell_type": "code",
   "execution_count": null,
   "id": "41852f30-0d50-41bc-8840-d121ca90d95b",
   "metadata": {
    "tags": []
   },
   "outputs": [
    {
     "name": "stdout",
     "output_type": "stream",
     "text": [
      "2023-02-01 07:32:35 Starting - Starting the training job...\n",
      "2023-02-01 07:33:01 Starting - Preparing the instances for trainingProfilerReport-1675236755: InProgress\n",
      ".........\n",
      "2023-02-01 07:34:35 Downloading - Downloading input data\n",
      "2023-02-01 07:34:35 Training - Downloading the training image...............\u001b[34m1%|          | 180/16000 [06:40<10:06:20,  2.30s/it]\u001b[0m\n",
      "\u001b[34m1%|          | 181/16000 [06:42<9:33:37,  2.18s/it]\u001b[0m\n",
      "\u001b[34m1%|          | 182/16000 [06:44<9:22:05,  2.13s/it]\u001b[0m\n",
      "\u001b[34m1%|          | 183/16000 [06:46<9:19:20,  2.12s/it]\u001b[0m\n",
      "\u001b[34m1%|          | 184/16000 [06:48<9:20:16,  2.13s/it]\u001b[0m\n",
      "\u001b[34m1%|          | 185/16000 [06:50<9:02:52,  2.06s/it]\u001b[0m\n",
      "\u001b[34m1%|          | 186/16000 [06:52<9:06:40,  2.07s/it]\u001b[0m\n",
      "\u001b[34m1%|          | 187/16000 [06:55<9:17:18,  2.11s/it]\u001b[0m\n",
      "\u001b[34m1%|          | 188/16000 [06:57<9:21:57,  2.13s/it]\u001b[0m\n",
      "\u001b[34m1%|          | 189/16000 [06:59<9:43:41,  2.22s/it]\u001b[0m\n",
      "\u001b[34m1%|          | 190/16000 [07:01<9:37:27,  2.19s/it]\u001b[0m\n",
      "\u001b[34m1%|          | 191/16000 [07:03<9:20:14,  2.13s/it]\u001b[0m\n",
      "\u001b[34m1%|          | 192/16000 [07:05<9:14:17,  2.10s/it]\u001b[0m\n",
      "\u001b[34m1%|          | 193/16000 [07:07<9:09:14,  2.08s/it]\u001b[0m\n",
      "\u001b[34m1%|          | 194/16000 [07:09<9:13:47,  2.10s/it]\u001b[0m\n",
      "\u001b[34m1%|          | 195/16000 [07:12<9:33:50,  2.18s/it]\u001b[0m\n",
      "\u001b[34m1%|          | 196/16000 [07:14<9:53:54,  2.25s/it]\u001b[0m\n",
      "\u001b[34m1%|          | 197/16000 [07:16<9:34:04,  2.18s/it]\u001b[0m\n",
      "\u001b[34m1%|          | 198/16000 [07:18<9:18:56,  2.12s/it]\u001b[0m\n",
      "\u001b[34m1%|          | 199/16000 [07:20<9:15:50,  2.11s/it]\u001b[0m\n",
      "\u001b[34m1%|▏         | 200/16000 [07:22<9:08:07,  2.08s/it]\u001b[0m\n",
      "\u001b[34m1%|▏         | 201/16000 [07:24<9:09:28,  2.09s/it]\u001b[0m\n",
      "\u001b[34m1%|▏         | 202/16000 [07:27<9:16:24,  2.11s/it]\u001b[0m\n",
      "\u001b[34m1%|▏         | 203/16000 [07:29<9:42:33,  2.21s/it]\u001b[0m\n",
      "\u001b[34m1%|▏         | 204/16000 [07:31<9:45:00,  2.22s/it]\u001b[0m\n",
      "\u001b[34m1%|▏         | 205/16000 [07:33<9:35:43,  2.19s/it]\u001b[0m\n",
      "\u001b[34m1%|▏         | 206/16000 [07:35<9:01:52,  2.06s/it]\u001b[0m\n",
      "\u001b[34m1%|▏         | 207/16000 [07:37<9:15:40,  2.11s/it]\u001b[0m\n",
      "\u001b[34m1%|▏         | 208/16000 [07:40<9:37:20,  2.19s/it]\u001b[0m\n",
      "\u001b[34m1%|▏         | 209/16000 [07:42<9:59:20,  2.28s/it]\u001b[0m\n",
      "\u001b[34m2%|▏         | 300/16000 [10:59<9:51:49,  2.26s/it]\u001b[0m\n",
      "\u001b[34m2%|▏         | 301/16000 [11:01<9:46:37,  2.24s/it]\u001b[0m\n",
      "\u001b[34m2%|▏         | 302/16000 [11:03<9:27:15,  2.17s/it]\u001b[0m\n",
      "\u001b[34m2%|▏         | 303/16000 [11:05<9:40:34,  2.22s/it]\u001b[0m\n",
      "\u001b[34m2%|▏         | 304/16000 [11:07<9:23:35,  2.15s/it]\u001b[0m\n",
      "\u001b[34m2%|▏         | 305/16000 [11:09<8:57:29,  2.05s/it]\u001b[0m\n",
      "\u001b[34m2%|▏         | 306/16000 [11:11<9:01:32,  2.07s/it]\u001b[0m\n",
      "\u001b[34m2%|▏         | 307/16000 [11:13<9:05:06,  2.08s/it]\u001b[0m\n",
      "\u001b[34m2%|▏         | 308/16000 [11:15<9:11:26,  2.11s/it]\u001b[0m\n",
      "\u001b[34m2%|▏         | 309/16000 [11:18<9:11:16,  2.11s/it]\u001b[0m\n",
      "\u001b[34m2%|▏         | 310/16000 [11:20<9:31:04,  2.18s/it]\u001b[0m\n",
      "\u001b[34m2%|▏         | 311/16000 [11:22<9:13:01,  2.11s/it]\u001b[0m\n",
      "\u001b[34m2%|▏         | 312/16000 [11:24<9:14:19,  2.12s/it]\u001b[0m\n",
      "\u001b[34m2%|▏         | 313/16000 [11:26<9:28:25,  2.17s/it]\u001b[0m\n",
      "\u001b[34m2%|▏         | 314/16000 [11:28<9:27:20,  2.17s/it]\u001b[0m\n",
      "\u001b[34m2%|▏         | 315/16000 [11:30<9:02:02,  2.07s/it]\u001b[0m\n",
      "\u001b[34m2%|▏         | 316/16000 [11:32<9:03:47,  2.08s/it]\u001b[0m\n",
      "\u001b[34m2%|▏         | 317/16000 [11:35<9:28:20,  2.17s/it]\u001b[0m\n",
      "\u001b[34m2%|▏         | 318/16000 [11:37<9:36:10,  2.20s/it]\u001b[0m\n",
      "\u001b[34m2%|▏         | 319/16000 [11:39<9:36:47,  2.21s/it]\u001b[0m\n",
      "\u001b[34m2%|▏         | 320/16000 [11:41<9:33:43,  2.20s/it]\u001b[0m\n",
      "\u001b[34m2%|▏         | 321/16000 [11:43<9:17:37,  2.13s/it]\u001b[0m\n",
      "\u001b[34m2%|▏         | 322/16000 [11:46<9:26:40,  2.17s/it]\u001b[0m\n",
      "\u001b[34m2%|▏         | 323/16000 [11:48<9:25:17,  2.16s/it]\u001b[0m\n",
      "\u001b[34m2%|▏         | 324/16000 [11:50<9:08:03,  2.10s/it]\u001b[0m\n",
      "\u001b[34m2%|▏         | 325/16000 [11:52<9:08:06,  2.10s/it]\u001b[0m\n",
      "\u001b[34m2%|▏         | 326/16000 [11:54<9:11:59,  2.11s/it]\u001b[0m\n",
      "\u001b[34m2%|▏         | 327/16000 [11:56<8:52:31,  2.04s/it]\u001b[0m\n",
      "\u001b[34m2%|▏         | 328/16000 [11:58<9:03:15,  2.08s/it]\u001b[0m\n",
      "\u001b[34m2%|▏         | 329/16000 [12:00<9:06:06,  2.09s/it]\u001b[0m\n",
      "\u001b[34m2%|▏         | 330/16000 [12:02<8:58:12,  2.06s/it]\u001b[0m\n",
      "\u001b[34m2%|▏         | 331/16000 [12:04<8:57:48,  2.06s/it]\u001b[0m\n",
      "\u001b[34m2%|▏         | 332/16000 [12:07<9:20:27,  2.15s/it]\u001b[0m\n",
      "\u001b[34m2%|▏         | 333/16000 [12:09<9:24:04,  2.16s/it]\u001b[0m\n",
      "\u001b[34m2%|▏         | 334/16000 [12:11<9:06:44,  2.09s/it]\u001b[0m\n",
      "\u001b[34m2%|▏         | 335/16000 [12:13<8:53:52,  2.04s/it]\u001b[0m\n",
      "\u001b[34m2%|▏         | 336/16000 [12:15<8:53:38,  2.04s/it]\u001b[0m\n",
      "\u001b[34m2%|▏         | 337/16000 [12:17<9:02:43,  2.08s/it]\u001b[0m\n",
      "\u001b[34m2%|▏         | 338/16000 [12:19<9:06:10,  2.09s/it]\u001b[0m\n",
      "\u001b[34m2%|▏         | 339/16000 [12:21<8:58:24,  2.06s/it]\u001b[0m\n",
      "\u001b[34m2%|▏         | 340/16000 [12:23<9:11:38,  2.11s/it]\u001b[0m\n",
      "\u001b[34m2%|▏         | 341/16000 [12:25<9:05:15,  2.09s/it]\u001b[0m\n",
      "\u001b[34m2%|▏         | 342/16000 [12:27<8:55:25,  2.05s/it]\u001b[0m\n",
      "\u001b[34m2%|▏         | 343/16000 [12:29<8:52:45,  2.04s/it]\u001b[0m\n",
      "\u001b[34m2%|▏         | 344/16000 [12:32<9:14:12,  2.12s/it]\u001b[0m\n",
      "\u001b[34m2%|▏         | 345/16000 [12:34<9:17:16,  2.14s/it]\u001b[0m\n",
      "\u001b[34m2%|▏         | 346/16000 [12:36<9:12:51,  2.12s/it]\u001b[0m\n",
      "\u001b[34m2%|▏         | 347/16000 [12:38<8:57:49,  2.06s/it]\u001b[0m\n",
      "\u001b[34m2%|▏         | 348/16000 [12:40<8:54:22,  2.05s/it]\u001b[0m\n",
      "\u001b[34m2%|▏         | 349/16000 [12:42<8:48:12,  2.02s/it]\u001b[0m\n",
      "\u001b[34m2%|▏         | 350/16000 [12:44<9:24:01,  2.16s/it]\u001b[0m\n",
      "\u001b[34m2%|▏         | 351/16000 [12:46<9:30:42,  2.19s/it]\u001b[0m\n",
      "\u001b[34m2%|▏         | 352/16000 [12:49<9:31:19,  2.19s/it]\u001b[0m\n",
      "\u001b[34m2%|▏         | 353/16000 [12:51<9:06:51,  2.10s/it]\u001b[0m\n",
      "\u001b[34m2%|▏         | 354/16000 [12:53<8:59:20,  2.07s/it]\u001b[0m\n",
      "\u001b[34m2%|▏         | 355/16000 [12:54<8:52:07,  2.04s/it]\u001b[0m\n",
      "\u001b[34m2%|▏         | 356/16000 [12:57<9:02:03,  2.08s/it]\u001b[0m\n",
      "\u001b[34m2%|▏         | 357/16000 [12:59<9:01:47,  2.08s/it]\u001b[0m\n",
      "\u001b[34m2%|▏         | 358/16000 [13:01<8:51:07,  2.04s/it]\u001b[0m\n",
      "\u001b[34m2%|▏         | 359/16000 [13:03<9:02:28,  2.08s/it]\u001b[0m\n",
      "\u001b[34m2%|▏         | 360/16000 [13:05<8:53:51,  2.05s/it]\u001b[0m\n",
      "\u001b[34m2%|▏         | 361/16000 [13:07<8:55:39,  2.06s/it]\u001b[0m\n",
      "\u001b[34m2%|▏         | 362/16000 [13:09<9:14:32,  2.13s/it]\u001b[0m\n",
      "\u001b[34m2%|▏         | 363/16000 [13:12<9:34:48,  2.21s/it]\u001b[0m\n",
      "\u001b[34m2%|▏         | 364/16000 [13:14<9:27:08,  2.18s/it]\u001b[0m\n",
      "\u001b[34m2%|▏         | 365/16000 [13:16<9:13:37,  2.12s/it]\u001b[0m\n",
      "\u001b[34m2%|▏         | 366/16000 [13:18<9:01:09,  2.08s/it]\u001b[0m\n",
      "\u001b[34m2%|▏         | 367/16000 [13:20<9:04:54,  2.09s/it]\u001b[0m\n",
      "\u001b[34m2%|▏         | 368/16000 [13:22<8:54:56,  2.05s/it]\u001b[0m\n",
      "\u001b[34m2%|▏         | 369/16000 [13:24<8:53:09,  2.05s/it]\u001b[0m\n",
      "\u001b[34m2%|▏         | 370/16000 [13:26<9:00:34,  2.08s/it]\u001b[0m\n",
      "\u001b[34m2%|▏         | 371/16000 [13:28<8:52:47,  2.05s/it]\u001b[0m\n"
     ]
    }
   ],
   "source": [
    "OUTPUT_PATH= f's3://{BUCKET}/{PREFIX}/{TRAINING_JOB_NAME}/output/'\n",
    "\n",
    "huggingface_estimator = HuggingFace(entry_point='train.py',\n",
    "                                    source_dir='./scripts',\n",
    "                                    output_path= OUTPUT_PATH, \n",
    "                                    instance_type=instance_type,\n",
    "                                    instance_count=1,\n",
    "                                    transformers_version='4.17.0',\n",
    "                                    pytorch_version='1.10.2',\n",
    "                                    py_version='py38',\n",
    "                                    role=ROLE,\n",
    "                                    hyperparameters = hyperparameters,\n",
    "                                    metric_definitions = metric_definitions,\n",
    "                                    volume_size=200,\n",
    "                                    distribution=distribution,\n",
    "                                   )\n",
    "\n",
    "#Starts the training job using the fit function, training takes approximately 2 hours to complete.\n",
    "huggingface_estimator.fit({'train': training}, job_name=TRAINING_JOB_NAME)"
   ]
  },
  {
   "cell_type": "code",
   "execution_count": null,
   "id": "8e45c396-43f5-462d-a963-6b99cc29b178",
   "metadata": {},
   "outputs": [],
   "source": []
  }
 ],
 "metadata": {
  "instance_type": "ml.t3.medium",
  "kernelspec": {
   "display_name": "Python 3 (Data Science)",
   "language": "python",
   "name": "python3__SAGEMAKER_INTERNAL__arn:aws:sagemaker:us-east-1:081325390199:image/datascience-1.0"
  },
  "language_info": {
   "codemirror_mode": {
    "name": "ipython",
    "version": 3
   },
   "file_extension": ".py",
   "mimetype": "text/x-python",
   "name": "python",
   "nbconvert_exporter": "python",
   "pygments_lexer": "ipython3",
   "version": "3.7.10"
  }
 },
 "nbformat": 4,
 "nbformat_minor": 5
}
