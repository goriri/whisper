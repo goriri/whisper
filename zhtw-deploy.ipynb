{
 "cells": [
  {
   "cell_type": "code",
   "execution_count": 1,
   "id": "df9cd748-d4d4-4f03-945b-4150159c5541",
   "metadata": {
    "tags": []
   },
   "outputs": [],
   "source": [
    "# Upgrade packages and install libsndfile1\n",
    "!sudo yum upgrade -y\n",
    "!sudo yum install libsndfile1 -y\n",
    "\n"
   ]
  },
  {
   "cell_type": "code",
   "execution_count": 2,
   "id": "499639bf-5964-41dc-8122-eca34587f127",
   "metadata": {},
   "outputs": [
    {
     "name": "stdout",
     "output_type": "stream",
     "text": [
      "Looking in indexes: https://pypi.org/simple, https://pip.repos.neuron.amazonaws.com\n",
      "Requirement already satisfied: librosa in /home/ec2-user/anaconda3/envs/python3/lib/python3.10/site-packages (0.9.2)\n",
      "Requirement already satisfied: joblib>=0.14 in /home/ec2-user/anaconda3/envs/python3/lib/python3.10/site-packages (from librosa) (1.2.0)\n",
      "Requirement already satisfied: scikit-learn>=0.19.1 in /home/ec2-user/anaconda3/envs/python3/lib/python3.10/site-packages (from librosa) (1.1.3)\n",
      "Requirement already satisfied: decorator>=4.0.10 in /home/ec2-user/anaconda3/envs/python3/lib/python3.10/site-packages (from librosa) (5.1.1)\n",
      "Requirement already satisfied: audioread>=2.1.9 in /home/ec2-user/anaconda3/envs/python3/lib/python3.10/site-packages (from librosa) (3.0.0)\n",
      "Requirement already satisfied: resampy>=0.2.2 in /home/ec2-user/anaconda3/envs/python3/lib/python3.10/site-packages (from librosa) (0.4.2)\n",
      "Requirement already satisfied: numba>=0.45.1 in /home/ec2-user/anaconda3/envs/python3/lib/python3.10/site-packages (from librosa) (0.56.3)\n",
      "Requirement already satisfied: packaging>=20.0 in /home/ec2-user/anaconda3/envs/python3/lib/python3.10/site-packages (from librosa) (21.3)\n",
      "Requirement already satisfied: scipy>=1.2.0 in /home/ec2-user/anaconda3/envs/python3/lib/python3.10/site-packages (from librosa) (1.9.3)\n",
      "Requirement already satisfied: pooch>=1.0 in /home/ec2-user/anaconda3/envs/python3/lib/python3.10/site-packages (from librosa) (1.6.0)\n",
      "Requirement already satisfied: soundfile>=0.10.2 in /home/ec2-user/anaconda3/envs/python3/lib/python3.10/site-packages (from librosa) (0.11.0)\n",
      "Requirement already satisfied: numpy>=1.17.0 in /home/ec2-user/anaconda3/envs/python3/lib/python3.10/site-packages (from librosa) (1.22.4)\n",
      "Requirement already satisfied: llvmlite<0.40,>=0.39.0dev0 in /home/ec2-user/anaconda3/envs/python3/lib/python3.10/site-packages (from numba>=0.45.1->librosa) (0.39.1)\n",
      "Requirement already satisfied: setuptools in /home/ec2-user/anaconda3/envs/python3/lib/python3.10/site-packages (from numba>=0.45.1->librosa) (65.5.0)\n",
      "Requirement already satisfied: pyparsing!=3.0.5,>=2.0.2 in /home/ec2-user/anaconda3/envs/python3/lib/python3.10/site-packages (from packaging>=20.0->librosa) (3.0.9)\n",
      "Requirement already satisfied: requests>=2.19.0 in /home/ec2-user/anaconda3/envs/python3/lib/python3.10/site-packages (from pooch>=1.0->librosa) (2.28.1)\n",
      "Requirement already satisfied: appdirs>=1.3.0 in /home/ec2-user/anaconda3/envs/python3/lib/python3.10/site-packages (from pooch>=1.0->librosa) (1.4.4)\n",
      "Requirement already satisfied: threadpoolctl>=2.0.0 in /home/ec2-user/anaconda3/envs/python3/lib/python3.10/site-packages (from scikit-learn>=0.19.1->librosa) (3.1.0)\n",
      "Requirement already satisfied: cffi>=1.0 in /home/ec2-user/anaconda3/envs/python3/lib/python3.10/site-packages (from soundfile>=0.10.2->librosa) (1.15.1)\n",
      "Requirement already satisfied: pycparser in /home/ec2-user/anaconda3/envs/python3/lib/python3.10/site-packages (from cffi>=1.0->soundfile>=0.10.2->librosa) (2.21)\n",
      "Requirement already satisfied: urllib3<1.27,>=1.21.1 in /home/ec2-user/anaconda3/envs/python3/lib/python3.10/site-packages (from requests>=2.19.0->pooch>=1.0->librosa) (1.26.8)\n",
      "Requirement already satisfied: idna<4,>=2.5 in /home/ec2-user/anaconda3/envs/python3/lib/python3.10/site-packages (from requests>=2.19.0->pooch>=1.0->librosa) (3.4)\n",
      "Requirement already satisfied: certifi>=2017.4.17 in /home/ec2-user/anaconda3/envs/python3/lib/python3.10/site-packages (from requests>=2.19.0->pooch>=1.0->librosa) (2022.9.24)\n",
      "Requirement already satisfied: charset-normalizer<3,>=2 in /home/ec2-user/anaconda3/envs/python3/lib/python3.10/site-packages (from requests>=2.19.0->pooch>=1.0->librosa) (2.1.1)\n",
      "Looking in indexes: https://pypi.org/simple, https://pip.repos.neuron.amazonaws.com\n",
      "Requirement already satisfied: sagemaker in /home/ec2-user/anaconda3/envs/python3/lib/python3.10/site-packages (2.128.0)\n",
      "Collecting sagemaker\n",
      "  Downloading sagemaker-2.131.1.tar.gz (665 kB)\n",
      "\u001b[2K     \u001b[90m━━━━━━━━━━━━━━━━━━━━━━━━━━━━━━━━━━━━━━\u001b[0m \u001b[32m665.2/665.2 kB\u001b[0m \u001b[31m40.9 MB/s\u001b[0m eta \u001b[36m0:00:00\u001b[0m\n",
      "\u001b[?25h  Preparing metadata (setup.py) ... \u001b[?25ldone\n",
      "\u001b[?25hRequirement already satisfied: attrs<23,>=20.3.0 in /home/ec2-user/anaconda3/envs/python3/lib/python3.10/site-packages (from sagemaker) (22.1.0)\n",
      "Requirement already satisfied: boto3<2.0,>=1.26.28 in /home/ec2-user/anaconda3/envs/python3/lib/python3.10/site-packages (from sagemaker) (1.26.44)\n",
      "Requirement already satisfied: google-pasta in /home/ec2-user/anaconda3/envs/python3/lib/python3.10/site-packages (from sagemaker) (0.2.0)\n",
      "Requirement already satisfied: numpy<2.0,>=1.9.0 in /home/ec2-user/anaconda3/envs/python3/lib/python3.10/site-packages (from sagemaker) (1.22.4)\n",
      "Requirement already satisfied: protobuf<4.0,>=3.1 in /home/ec2-user/anaconda3/envs/python3/lib/python3.10/site-packages (from sagemaker) (3.20.3)\n",
      "Requirement already satisfied: protobuf3-to-dict<1.0,>=0.1.5 in /home/ec2-user/anaconda3/envs/python3/lib/python3.10/site-packages (from sagemaker) (0.1.5)\n",
      "Requirement already satisfied: smdebug_rulesconfig==1.0.1 in /home/ec2-user/anaconda3/envs/python3/lib/python3.10/site-packages (from sagemaker) (1.0.1)\n",
      "Requirement already satisfied: importlib-metadata<5.0,>=1.4.0 in /home/ec2-user/anaconda3/envs/python3/lib/python3.10/site-packages (from sagemaker) (4.13.0)\n",
      "Requirement already satisfied: packaging>=20.0 in /home/ec2-user/anaconda3/envs/python3/lib/python3.10/site-packages (from sagemaker) (21.3)\n",
      "Requirement already satisfied: pandas in /home/ec2-user/anaconda3/envs/python3/lib/python3.10/site-packages (from sagemaker) (1.5.1)\n",
      "Requirement already satisfied: pathos in /home/ec2-user/anaconda3/envs/python3/lib/python3.10/site-packages (from sagemaker) (0.3.0)\n",
      "Requirement already satisfied: schema in /home/ec2-user/anaconda3/envs/python3/lib/python3.10/site-packages (from sagemaker) (0.7.5)\n",
      "Requirement already satisfied: jmespath<2.0.0,>=0.7.1 in /home/ec2-user/anaconda3/envs/python3/lib/python3.10/site-packages (from boto3<2.0,>=1.26.28->sagemaker) (0.10.0)\n",
      "Requirement already satisfied: s3transfer<0.7.0,>=0.6.0 in /home/ec2-user/anaconda3/envs/python3/lib/python3.10/site-packages (from boto3<2.0,>=1.26.28->sagemaker) (0.6.0)\n",
      "Requirement already satisfied: botocore<1.30.0,>=1.29.44 in /home/ec2-user/anaconda3/envs/python3/lib/python3.10/site-packages (from boto3<2.0,>=1.26.28->sagemaker) (1.29.47)\n",
      "Requirement already satisfied: zipp>=0.5 in /home/ec2-user/anaconda3/envs/python3/lib/python3.10/site-packages (from importlib-metadata<5.0,>=1.4.0->sagemaker) (3.10.0)\n",
      "Requirement already satisfied: pyparsing!=3.0.5,>=2.0.2 in /home/ec2-user/anaconda3/envs/python3/lib/python3.10/site-packages (from packaging>=20.0->sagemaker) (3.0.9)\n",
      "Requirement already satisfied: six in /home/ec2-user/anaconda3/envs/python3/lib/python3.10/site-packages (from protobuf3-to-dict<1.0,>=0.1.5->sagemaker) (1.16.0)\n",
      "Requirement already satisfied: python-dateutil>=2.8.1 in /home/ec2-user/anaconda3/envs/python3/lib/python3.10/site-packages (from pandas->sagemaker) (2.8.2)\n",
      "Requirement already satisfied: pytz>=2020.1 in /home/ec2-user/anaconda3/envs/python3/lib/python3.10/site-packages (from pandas->sagemaker) (2022.5)\n",
      "Requirement already satisfied: multiprocess>=0.70.14 in /home/ec2-user/anaconda3/envs/python3/lib/python3.10/site-packages (from pathos->sagemaker) (0.70.14)\n",
      "Requirement already satisfied: ppft>=1.7.6.6 in /home/ec2-user/anaconda3/envs/python3/lib/python3.10/site-packages (from pathos->sagemaker) (1.7.6.6)\n",
      "Requirement already satisfied: dill>=0.3.6 in /home/ec2-user/anaconda3/envs/python3/lib/python3.10/site-packages (from pathos->sagemaker) (0.3.6)\n",
      "Requirement already satisfied: pox>=0.3.2 in /home/ec2-user/anaconda3/envs/python3/lib/python3.10/site-packages (from pathos->sagemaker) (0.3.2)\n",
      "Requirement already satisfied: contextlib2>=0.5.5 in /home/ec2-user/anaconda3/envs/python3/lib/python3.10/site-packages (from schema->sagemaker) (21.6.0)\n",
      "Requirement already satisfied: urllib3<1.27,>=1.25.4 in /home/ec2-user/anaconda3/envs/python3/lib/python3.10/site-packages (from botocore<1.30.0,>=1.29.44->boto3<2.0,>=1.26.28->sagemaker) (1.26.8)\n",
      "Building wheels for collected packages: sagemaker\n",
      "  Building wheel for sagemaker (setup.py) ... \u001b[?25ldone\n",
      "\u001b[?25h  Created wheel for sagemaker: filename=sagemaker-2.131.1-py2.py3-none-any.whl size=902451 sha256=099897311376e3a81d6803e35cf90f4e353e0daf74b84ea9486a207c54e02025\n",
      "  Stored in directory: /home/ec2-user/.cache/pip/wheels/94/de/5c/8fa9f9af1b43acd7ef0e8cf6d302b5f32a341af3aa2fe5013f\n",
      "Successfully built sagemaker\n",
      "Installing collected packages: sagemaker\n",
      "  Attempting uninstall: sagemaker\n",
      "    Found existing installation: sagemaker 2.128.0\n",
      "    Uninstalling sagemaker-2.128.0:\n",
      "      Successfully uninstalled sagemaker-2.128.0\n",
      "Successfully installed sagemaker-2.131.1\n"
     ]
    }
   ],
   "source": [
    "# Install librosa (if you want to process mp3) and upgrade sagemaker\n",
    "!pip install librosa\n",
    "!pip install sagemaker --upgrade"
   ]
  },
  {
   "cell_type": "code",
   "execution_count": 3,
   "id": "4769ebd1-629b-4b05-b6fa-177e3cb522c2",
   "metadata": {
    "tags": []
   },
   "outputs": [
    {
     "name": "stdout",
     "output_type": "stream",
     "text": [
      "sagemaker role arn: arn:aws:iam::348052051973:role/service-role/AmazonSageMakerServiceCatalogProductsExecutionRole\n",
      "sagemaker bucket: sagemaker-us-east-1-348052051973\n",
      "sagemaker session region: us-east-1\n"
     ]
    }
   ],
   "source": [
    "import json\n",
    "import time\n",
    "import boto3\n",
    "import numpy as np\n",
    "import sagemaker\n",
    "import sagemaker.huggingface\n",
    "\n",
    "#BUCKET=\"[BUCKET_NAME]\" # please use your bucket name\n",
    "ROLE = sagemaker.get_execution_role()\n",
    "sess = sagemaker.Session()\n",
    "BUCKET = sess.default_bucket()\n",
    "sagemaker\n",
    "print(f\"sagemaker role arn: {ROLE}\")\n",
    "print(f\"sagemaker bucket: {BUCKET}\")\n",
    "print(f\"sagemaker session region: {sess.boto_region_name}\")"
   ]
  },
  {
   "cell_type": "code",
   "execution_count": 6,
   "id": "9e7e3fee-0a1f-4b2a-b3ef-fc46dc96f841",
   "metadata": {
    "tags": []
   },
   "outputs": [],
   "source": [
    "# The SageMaker Model is a container containing the running environment + inference scripte + model data.\n",
    "# The SageMaker Endpoint is a running cluster of the SageMaker Models\n",
    "\n",
    "from sagemaker.huggingface import HuggingFaceModel\n",
    "\n",
    "# Change model_name (create one) and model_data (copy from the training job S3 model artifact) accordingly\n",
    "model_name = 'whisper-zhtw6'\n",
    "model_data = 's3://sagemaker-us-east-1-348052051973/whisper/data/zhtw-common-voice-processed/whisper-zhtw-1675301423/output/whisper-zhtw-1675301423/output/model.tar.gz'\n",
    "\n",
    "huggingface_model = HuggingFaceModel(\n",
    "        entry_point = 'inference.py',\n",
    "        source_dir='./scripts',\n",
    "        name = model_name,\n",
    "        transformers_version='4.17.0',\n",
    "        pytorch_version='1.10.2',\n",
    "        py_version='py38',\n",
    "        model_data=model_data,\n",
    "        role=ROLE,\n",
    "    )\n",
    "\n"
   ]
  },
  {
   "cell_type": "code",
   "execution_count": null,
   "id": "84c67e35-9034-433e-a9ed-c3f78020edb7",
   "metadata": {
    "tags": []
   },
   "outputs": [
    {
     "name": "stdout",
     "output_type": "stream",
     "text": [
      "----"
     ]
    }
   ],
   "source": [
    "# The create_model method takes a lot of temporary space under the root. For large models, the root disk in SageMaker Studio Notebook (which is a container) is not enough. \n",
    "# This notebook is simply invoking SageMaker APIs, so it can be done on a EC2 as well.\n",
    "\n",
    "# For creating a new model and deploy as a new endpoint, the easiest way is to call the deploy method under the model\n",
    "\n",
    "# predictor = huggingface_model.deploy(\n",
    "#     initial_instance_count=1,\n",
    "#     instance_type=\"ml.m5d.2xlarge\", \n",
    "#     endpoint_name = model_name,\n",
    "# )\n",
    "\n",
    "# If you want to update an existing endpoint with a new model, you \n",
    "from sagemaker.predictor import Predictor\n",
    "from sagemaker.serializers import JSONSerializer\n",
    "from sagemaker.deserializers import JSONDeserializer\n",
    "\n",
    "sess.create_model(\n",
    "    model_name,\n",
    "    ROLE,\n",
    "    huggingface_model.prepare_container_def(\n",
    "        instance_type='ml.m5d.2xlarge'\n",
    "    )\n",
    ")\n",
    "\n",
    "predictor = Predictor('whisper-zhtw', serializer=JSONSerializer(), deserializer=JSONDeserializer())\n",
    "predictor.update_endpoint(model_name=model_name, initial_instance_count=1, instance_type='ml.m5d.2xlarge')"
   ]
  },
  {
   "cell_type": "code",
   "execution_count": 8,
   "id": "d5d8ad32-0a49-402e-9fa0-6adad7f2d2bc",
   "metadata": {},
   "outputs": [
    {
     "name": "stdout",
     "output_type": "stream",
     "text": [
      "b'\"\\\\u9019\\\\u9593\\\\u70ba\\\\u8005\\\\u9023\\\\u53bb\\\\u706b\\\\u5340\\\\u7e3d\\\\u5171\\\\u767c\\\\u751f\\\\u5169\\\\u5c64\\\\u6bb5\\\\u6027\"'\n",
      "CPU times: user 90.1 ms, sys: 16.1 ms, total: 106 ms\n",
      "Wall time: 9.13 s\n"
     ]
    }
   ],
   "source": [
    "%%time\n",
    "# Do the prediction\n",
    "from sagemaker.predictor import Predictor\n",
    "from sagemaker.serializers import DataSerializer\n",
    "\n",
    "audio_path = 'audio2.flac'\n",
    "audio_serializer = DataSerializer(content_type='audio/x-audio')\n",
    "\n",
    "predictor = Predictor('whisper-zhtw', serializer=audio_serializer)\n",
    "with open(audio_path, \"rb\") as data_file:\n",
    "    audio_data = data_file.read()\n",
    "    \n",
    "prediction = predictor.predict(audio_data)\n",
    "print(prediction)"
   ]
  },
  {
   "cell_type": "code",
   "execution_count": 9,
   "id": "22494c28-a0c1-41cc-b101-d806de26ac6f",
   "metadata": {
    "tags": []
   },
   "outputs": [
    {
     "data": {
      "text/plain": [
       "'\"這間為者連去火區總共發生兩層段性\"'"
      ]
     },
     "execution_count": 9,
     "metadata": {},
     "output_type": "execute_result"
    }
   ],
   "source": [
    "prediction.decode('unicode_escape')"
   ]
  },
  {
   "cell_type": "code",
   "execution_count": null,
   "id": "3087a281-3c32-4a9a-a1e7-cbb13b46a510",
   "metadata": {},
   "outputs": [],
   "source": []
  }
 ],
 "metadata": {
  "instance_type": "ml.t3.medium",
  "kernelspec": {
   "display_name": "conda_python3",
   "language": "python",
   "name": "conda_python3"
  },
  "language_info": {
   "codemirror_mode": {
    "name": "ipython",
    "version": 3
   },
   "file_extension": ".py",
   "mimetype": "text/x-python",
   "name": "python",
   "nbconvert_exporter": "python",
   "pygments_lexer": "ipython3",
   "version": "3.10.6"
  }
 },
 "nbformat": 4,
 "nbformat_minor": 5
}
